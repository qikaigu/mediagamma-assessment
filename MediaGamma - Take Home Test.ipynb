{
 "cells": [
  {
   "cell_type": "markdown",
   "metadata": {},
   "source": [
    "MediaGamma - Take Home Test\n",
    "======\n",
    "\n",
    "Qikai Gu\n",
    "\n",
    "July 17, 2018\n",
    "\n",
    "\n",
    "The test is about building a CTR prediction model with one of provided datasets. \n",
    "I picked [https://www.kaggle.com/c/avazu-ctr-prediction](https://www.kaggle.com/c/avazu-ctr-prediction).\n",
    "\n",
    "It's expected to:\n",
    "- finish the test in 2-3 hours\n",
    "- return the results in 2 weeks but the sooner the better\n",
    "- build an end-to-end pipeline for the task\n",
    "- showcase my understanding of various aspects of ML: ETL, model building and selection, evaluation, etc.\n",
    "- develop in python (jupyter notebooks) with reasonable comments\n",
    "- use version control with appropriate commit messages\n",
    "\n",
    "Last updated: July 29, 2018"
   ]
  },
  {
   "cell_type": "code",
   "execution_count": 1,
   "metadata": {},
   "outputs": [],
   "source": [
    "import numpy as np\n",
    "import pandas as pd\n",
    "from pathlib import Path\n",
    "import xlearn as xl\n",
    "import xgboost as xgb\n",
    "from sklearn.preprocessing import LabelEncoder, OneHotEncoder\n",
    "from sklearn.feature_extraction.text import FeatureHasher, HashingVectorizer\n",
    "from sklearn.metrics import roc_curve, auc, roc_auc_score\n",
    "from sklearn.linear_model import LogisticRegression, SGDClassifier\n",
    "from sklearn.model_selection import PredefinedSplit, GridSearchCV\n",
    "import scipy\n",
    "from scipy.special import logit, expit\n",
    "import matplotlib.pyplot as plt\n",
    "import gc\n",
    "\n",
    "%matplotlib inline"
   ]
  },
  {
   "cell_type": "markdown",
   "metadata": {},
   "source": [
    "### Loading data"
   ]
  },
  {
   "cell_type": "code",
   "execution_count": 2,
   "metadata": {},
   "outputs": [],
   "source": [
    "# Use only 'train.gz' here as we need labeled data to evaluate our models.\n",
    "df = pd.read_csv('input/train.gz', # nrows=100000,\n",
    "                 compression='gzip', dtype={'id': str}, index_col='id')"
   ]
  },
  {
   "cell_type": "code",
   "execution_count": null,
   "metadata": {},
   "outputs": [],
   "source": [
    "pd.set_option('display.max_columns', 100)\n",
    "df.head()"
   ]
  },
  {
   "cell_type": "code",
   "execution_count": null,
   "metadata": {},
   "outputs": [],
   "source": [
    "print('dataset shape: \\t{}'.format(df.shape))"
   ]
  },
  {
   "cell_type": "markdown",
   "metadata": {},
   "source": [
    "### Preprocessing & Feature engineering\n",
    "\n",
    "Check class balance, it seems the class imbalance is not so bad."
   ]
  },
  {
   "cell_type": "code",
   "execution_count": null,
   "metadata": {},
   "outputs": [],
   "source": [
    "df.click.value_counts()"
   ]
  },
  {
   "cell_type": "code",
   "execution_count": 3,
   "metadata": {},
   "outputs": [],
   "source": [
    "m0, m1 = df.click.value_counts()"
   ]
  },
  {
   "cell_type": "markdown",
   "metadata": {},
   "source": [
    "Show features and types"
   ]
  },
  {
   "cell_type": "code",
   "execution_count": null,
   "metadata": {},
   "outputs": [],
   "source": [
    "pd.set_option('display.max_rows', 30)\n",
    "df.dtypes"
   ]
  },
  {
   "cell_type": "markdown",
   "metadata": {},
   "source": [
    "Check if there's any NaN values"
   ]
  },
  {
   "cell_type": "code",
   "execution_count": null,
   "metadata": {},
   "outputs": [],
   "source": [
    "for col in df.columns:\n",
    "    print('{:20}: {}'.format(col, df[col].hasnans))"
   ]
  },
  {
   "cell_type": "markdown",
   "metadata": {},
   "source": [
    "Negative samples downsampling\n",
    "\n",
    "As the provided data is 10 days click-through data. I will use the first 8 days as traning set, 9th day as valid set and the last day as test set."
   ]
  },
  {
   "cell_type": "code",
   "execution_count": null,
   "metadata": {},
   "outputs": [],
   "source": [
    "df.hour.unique()"
   ]
  },
  {
   "cell_type": "code",
   "execution_count": 4,
   "metadata": {},
   "outputs": [],
   "source": [
    "neg_ids = df[df.click == 0].index\n",
    "np.random.seed(42)\n",
    "drop_indices = np.random.choice(neg_ids, m0 - m1, replace=False)\n",
    "df.drop(drop_indices, inplace=True)"
   ]
  },
  {
   "cell_type": "markdown",
   "metadata": {},
   "source": [
    "Define Train/Valid/Test indices"
   ]
  },
  {
   "cell_type": "code",
   "execution_count": 5,
   "metadata": {},
   "outputs": [],
   "source": [
    "train_ids = df[(df.hour >= 14102100) & (df.hour < 14102900)].index\n",
    "valid_ids = df[(df.hour >= 14102900) & (df.hour < 14103000)].index\n",
    "test_ids = df[df.hour >= 14103000].index\n",
    "\n",
    "train_indices = df.index.get_indexer(train_ids)\n",
    "valid_indices = df.index.get_indexer(valid_ids)\n",
    "test_indices = df.index.get_indexer(test_ids)\n",
    "\n",
    "# define combined train and val set for cross-validation\n",
    "train_val_ids = np.concatenate([train_ids, valid_ids])\n",
    "train_val_indices = np.concatenate([train_indices, valid_indices])"
   ]
  },
  {
   "cell_type": "markdown",
   "metadata": {},
   "source": [
    "Add hour as a new feature"
   ]
  },
  {
   "cell_type": "code",
   "execution_count": 6,
   "metadata": {},
   "outputs": [],
   "source": [
    "df['hour_h'] = df.hour.apply(lambda x: x % 100)"
   ]
  },
  {
   "cell_type": "code",
   "execution_count": 7,
   "metadata": {},
   "outputs": [],
   "source": [
    "label_path = 'label.csv'\n",
    "label_file = Path(label_path)\n",
    "if label_file.is_file():\n",
    "    label_df = pd.read_csv(label_path).set_index('id')\n",
    "else:\n",
    "    label_df = df[['click']]\n",
    "    label_df.to_csv(label_path)"
   ]
  },
  {
   "cell_type": "markdown",
   "metadata": {},
   "source": [
    "Plot the top value counts of the features"
   ]
  },
  {
   "cell_type": "code",
   "execution_count": null,
   "metadata": {},
   "outputs": [],
   "source": [
    "def plot_value_counts(series, title='', size=30):\n",
    "    cnts = series.values[:size]\n",
    "    x = range(len(cnts))\n",
    "    plt.plot(x, cnts, 'o')\n",
    "    plt.yscale('log')\n",
    "    plt.ylim(1e2)\n",
    "    plt.title(title)\n",
    "    plt.tight_layout()\n",
    "    plt.show()\n",
    "\n",
    "plt.rcParams['figure.figsize'] = (9.0, 5.0)\n",
    "for col in ['device_id', 'device_ip', 'device_model']:\n",
    "    plot_value_counts(df[col].value_counts(), title='{} top value counts'.format(col))"
   ]
  },
  {
   "cell_type": "code",
   "execution_count": 8,
   "metadata": {},
   "outputs": [],
   "source": [
    "fields = df.columns[1:]"
   ]
  },
  {
   "cell_type": "markdown",
   "metadata": {},
   "source": [
    "Print some more information about device."
   ]
  },
  {
   "cell_type": "code",
   "execution_count": null,
   "metadata": {},
   "outputs": [],
   "source": [
    "for col in ['device_type', 'device_conn_type']:\n",
    "    print(df[col].value_counts())"
   ]
  },
  {
   "cell_type": "markdown",
   "metadata": {},
   "source": [
    "It looks good, there aren't too many levels."
   ]
  },
  {
   "cell_type": "markdown",
   "metadata": {},
   "source": [
    "### Train test split\n",
    "\n",
    "Test set is randomly selected. I use a dictionary to store sub training sets. To time reason, I only put 6 subsets, but we can add more subsets if needed."
   ]
  },
  {
   "cell_type": "code",
   "execution_count": 9,
   "metadata": {},
   "outputs": [
    {
     "name": "stdout",
     "output_type": "stream",
     "text": [
      "CPU times: user 10min 57s, sys: 4.71 s, total: 11min 1s\n",
      "Wall time: 11min 1s\n"
     ]
    }
   ],
   "source": [
    "%%time\n",
    "\n",
    "filepath = 'dataset.npz'\n",
    "dataset_file = Path(filepath)\n",
    "if dataset_file.is_file():\n",
    "    sparse_matrix = scipy.sparse.load_npz(filepath)\n",
    "else:\n",
    "    vectors = []\n",
    "    for c in fields:\n",
    "        n_features = min(1000, df[c].nunique())\n",
    "        h = HashingVectorizer(n_features=n_features, binary=True, norm=None, lowercase=False)\n",
    "        sparse_vector = h.transform(df[c].astype(str))\n",
    "        vectors.append(sparse_vector)\n",
    "    sparse_matrix = scipy.sparse.hstack(vectors).tocsr()\n",
    "    scipy.sparse.save_npz(filepath, sparse_matrix)"
   ]
  },
  {
   "cell_type": "code",
   "execution_count": null,
   "metadata": {},
   "outputs": [],
   "source": []
  },
  {
   "cell_type": "markdown",
   "metadata": {},
   "source": [
    "### Building and training models\n",
    "\n",
    "I will use train a Logistic Regression model and a XGBoost model and evaluate them with ROC AUC scores. For FFM model, I previously used the xLearn framework to build and train the model, but as it's not very stable and non-deterministic for multi-threading for the current version, I won't use it in this notebook."
   ]
  },
  {
   "cell_type": "markdown",
   "metadata": {},
   "source": [
    "Logistic Regression model"
   ]
  },
  {
   "cell_type": "code",
   "execution_count": 8,
   "metadata": {},
   "outputs": [
    {
     "name": "stdout",
     "output_type": "stream",
     "text": [
      "CPU times: user 9min 14s, sys: 2.26 s, total: 9min 16s\n",
      "Wall time: 9min 16s\n"
     ]
    }
   ],
   "source": [
    "%%time\n",
    "\n",
    "lr = LogisticRegression(solver='saga')\n",
    "lr.fit(sparse_matrix[train_indices, :], df.loc[train_ids].click)"
   ]
  },
  {
   "cell_type": "code",
   "execution_count": 9,
   "metadata": {},
   "outputs": [
    {
     "name": "stdout",
     "output_type": "stream",
     "text": [
      "Train auc:\n"
     ]
    },
    {
     "data": {
      "text/plain": [
       "0.7465672730378365"
      ]
     },
     "execution_count": 9,
     "metadata": {},
     "output_type": "execute_result"
    }
   ],
   "source": [
    "print('Train auc:')\n",
    "roc_auc_score(df.loc[train_ids].click, \n",
    "              lr.predict_proba(sparse_matrix[train_indices, :])[:, 1])"
   ]
  },
  {
   "cell_type": "code",
   "execution_count": 10,
   "metadata": {},
   "outputs": [
    {
     "name": "stdout",
     "output_type": "stream",
     "text": [
      "Valid auc\n"
     ]
    },
    {
     "data": {
      "text/plain": [
       "0.7217943812354648"
      ]
     },
     "execution_count": 10,
     "metadata": {},
     "output_type": "execute_result"
    }
   ],
   "source": [
    "print('Valid auc')\n",
    "roc_auc_score(df.loc[valid_ids].click, \n",
    "              lr.predict_proba(sparse_matrix[valid_indices, :])[:, 1])"
   ]
  },
  {
   "cell_type": "code",
   "execution_count": 12,
   "metadata": {},
   "outputs": [],
   "source": [
    "pred_lr = lr.predict_proba(sparse_matrix[test_indices, :])[:, 1]"
   ]
  },
  {
   "cell_type": "code",
   "execution_count": 14,
   "metadata": {},
   "outputs": [
    {
     "data": {
      "text/plain": [
       "0.7256734163609524"
      ]
     },
     "execution_count": 14,
     "metadata": {},
     "output_type": "execute_result"
    }
   ],
   "source": [
    "roc_auc_score(df.loc[test_ids].click, pred_lr)"
   ]
  },
  {
   "cell_type": "markdown",
   "metadata": {},
   "source": [
    "XGBoost model"
   ]
  },
  {
   "cell_type": "code",
   "execution_count": 17,
   "metadata": {},
   "outputs": [
    {
     "name": "stdout",
     "output_type": "stream",
     "text": [
      "Fitting 1 folds for each of 4 candidates, totalling 4 fits\n",
      "[CV] colsample_bytree=0.8, max_depth=7, subsample=0.8 ................\n",
      "[CV] . colsample_bytree=0.8, max_depth=7, subsample=0.8, total=44.3min\n",
      "[CV] colsample_bytree=0.8, max_depth=7, subsample=0.9 ................\n"
     ]
    },
    {
     "name": "stderr",
     "output_type": "stream",
     "text": [
      "[Parallel(n_jobs=1)]: Done   1 out of   1 | elapsed: 46.5min remaining:    0.0s\n"
     ]
    },
    {
     "name": "stdout",
     "output_type": "stream",
     "text": [
      "[CV] . colsample_bytree=0.8, max_depth=7, subsample=0.9, total=44.1min\n",
      "[CV] colsample_bytree=0.8, max_depth=9, subsample=0.8 ................\n",
      "[CV] . colsample_bytree=0.8, max_depth=9, subsample=0.8, total=56.7min\n",
      "[CV] colsample_bytree=0.8, max_depth=9, subsample=0.9 ................\n",
      "[CV] . colsample_bytree=0.8, max_depth=9, subsample=0.9, total=56.8min\n"
     ]
    },
    {
     "name": "stderr",
     "output_type": "stream",
     "text": [
      "[Parallel(n_jobs=1)]: Done   4 out of   4 | elapsed: 211.9min finished\n"
     ]
    },
    {
     "data": {
      "text/plain": [
       "GridSearchCV(cv=[(array([       0,        1, ..., 11038512, 11038513]), array([11038514, 11038515, ..., 12299305, 12299306]))],\n",
       "       error_score='raise',\n",
       "       estimator=XGBClassifier(base_score=0.5, booster='gbtree', colsample_bylevel=1,\n",
       "       colsample_bytree=1, early_stopping_rounds=10, gamma=0,\n",
       "       learning_rate=0.3, max_delta_step=0, max_depth=3,\n",
       "       min_child_weight=1, missing=None, n_estimators=1000, n_jobs=-1,\n",
       "       nthread=None, objective='binary:logistic', random_state=42,\n",
       "       reg_alpha=0, reg_lambda=1, scale_pos_weight=1, seed=None,\n",
       "       silent=True, subsample=1),\n",
       "       fit_params=None, iid=True, n_jobs=1,\n",
       "       param_grid={'max_depth': [7, 9], 'subsample': [0.8, 0.9], 'colsample_bytree': [0.8]},\n",
       "       pre_dispatch='2*n_jobs', refit=True, return_train_score='warn',\n",
       "       scoring='roc_auc', verbose=2)"
      ]
     },
     "execution_count": 17,
     "metadata": {},
     "output_type": "execute_result"
    }
   ],
   "source": [
    "xgb_model = xgb.XGBClassifier(n_estimators=1000, \n",
    "                              early_stopping_rounds=10,\n",
    "                              learning_rate=0.3, \n",
    "                              n_jobs=-1, \n",
    "                              random_state=42)\n",
    "\n",
    "parameters = {'max_depth': [7, 9],\n",
    "              'subsample': [0.8, 0.9],\n",
    "              'colsample_bytree': [0.8]}\n",
    "\n",
    "gs_xgb = GridSearchCV(xgb_model, parameters, cv=[(train_indices, valid_indices)], \n",
    "                      scoring='roc_auc', verbose=2)\n",
    "gs_xgb.fit(sparse_matrix[train_val_indices, :], label_df.loc[train_val_ids].click)"
   ]
  },
  {
   "cell_type": "code",
   "execution_count": 18,
   "metadata": {},
   "outputs": [
    {
     "data": {
      "text/plain": [
       "0.7495953565751019"
      ]
     },
     "execution_count": 18,
     "metadata": {},
     "output_type": "execute_result"
    }
   ],
   "source": [
    "gs_xgb.best_score_"
   ]
  },
  {
   "cell_type": "code",
   "execution_count": 19,
   "metadata": {},
   "outputs": [
    {
     "data": {
      "text/plain": [
       "XGBClassifier(base_score=0.5, booster='gbtree', colsample_bylevel=1,\n",
       "       colsample_bytree=0.8, early_stopping_rounds=10, gamma=0,\n",
       "       learning_rate=0.3, max_delta_step=0, max_depth=7,\n",
       "       min_child_weight=1, missing=None, n_estimators=1000, n_jobs=-1,\n",
       "       nthread=None, objective='binary:logistic', random_state=42,\n",
       "       reg_alpha=0, reg_lambda=1, scale_pos_weight=1, seed=None,\n",
       "       silent=True, subsample=0.8)"
      ]
     },
     "execution_count": 19,
     "metadata": {},
     "output_type": "execute_result"
    }
   ],
   "source": [
    "gs_xgb.best_estimator_"
   ]
  },
  {
   "cell_type": "code",
   "execution_count": 21,
   "metadata": {},
   "outputs": [],
   "source": [
    "pred_xgb = gs_xgb.predict_proba(sparse_matrix[test_indices, :])[:, 1]"
   ]
  },
  {
   "cell_type": "code",
   "execution_count": 23,
   "metadata": {},
   "outputs": [
    {
     "data": {
      "text/plain": [
       "0.741085047022664"
      ]
     },
     "execution_count": 23,
     "metadata": {},
     "output_type": "execute_result"
    }
   ],
   "source": [
    "roc_auc_score(label_df.loc[test_ids].click, pred_xgb)"
   ]
  },
  {
   "cell_type": "markdown",
   "metadata": {},
   "source": [
    "### Evaluation\n",
    "\n",
    "I use AUC as evaluation metric. This metric evaluates the ranking ability of the CTR, which can reduce the impact of bias."
   ]
  },
  {
   "cell_type": "code",
   "execution_count": 25,
   "metadata": {},
   "outputs": [],
   "source": [
    "y_true = label_df.loc[test_ids].click.values\n",
    "\n",
    "# fpr_lr, tpr_lr, _ = roc_curve(y_true, pred_lr)\n",
    "# roc_auc_lr = auc(fpr_lr, tpr_lr)\n",
    "\n",
    "fpr_xgb, tpr_xgb, _ = roc_curve(y_true, pred_xgb)\n",
    "roc_auc_xgb = auc(fpr_xgb, tpr_xgb)"
   ]
  },
  {
   "cell_type": "code",
   "execution_count": 26,
   "metadata": {},
   "outputs": [
    {
     "data": {
      "image/png": "[encoded data removed]",
      "text/plain": [
       "<Figure size 432x288 with 1 Axes>"
      ]
     },
     "metadata": {},
     "output_type": "display_data"
    }
   ],
   "source": [
    "plt.figure()\n",
    "lw = 2\n",
    "# plt.plot(fpr_lr, tpr_lr, color='black',\n",
    "#          lw=lw, label='LR (area = %0.2f)' % roc_auc_lr)\n",
    "plt.plot(fpr_xgb, tpr_xgb, color='darkorange',\n",
    "         lw=lw, label='XGB (area = %0.2f)' % roc_auc_xgb)\n",
    "plt.plot([0, 1], [0, 1], color='navy', lw=lw, linestyle='--')\n",
    "plt.xlim([0.0, 1.0])\n",
    "plt.ylim([0.0, 1.05])\n",
    "plt.xlabel('False Positive Rate')\n",
    "plt.ylabel('True Positive Rate')\n",
    "plt.title('ROC - Click Trough Rate')\n",
    "plt.legend(loc=\"lower right\")\n",
    "plt.show()"
   ]
  },
  {
   "cell_type": "markdown",
   "metadata": {},
   "source": [
    "Without compound features, XGBoost (0.74) performs slightly better than Logistic Regression (0.72)."
   ]
  },
  {
   "cell_type": "code",
   "execution_count": null,
   "metadata": {},
   "outputs": [],
   "source": []
  }
 ],
 "metadata": {
  "kernelspec": {
   "display_name": "Python 3",
   "language": "python",
   "name": "python3"
  },
  "language_info": {
   "codemirror_mode": {
    "name": "ipython",
    "version": 3
   },
   "file_extension": ".py",
   "mimetype": "text/x-python",
   "name": "python",
   "nbconvert_exporter": "python",
   "pygments_lexer": "ipython3",
   "version": "3.6.5"
  }
 },
 "nbformat": 4,
 "nbformat_minor": 2
}
