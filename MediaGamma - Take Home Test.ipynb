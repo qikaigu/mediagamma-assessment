{
 "cells": [
  {
   "cell_type": "markdown",
   "metadata": {},
   "source": [
    "MediaGamma - Take Home Test\n",
    "======\n",
    "\n",
    "Qikai Gu\n",
    "\n",
    "July 17, 2018\n",
    "\n",
    "\n",
    "The test is about building a CTR prediction model with one of provided datasets. \n",
    "I picked [https://www.kaggle.com/c/avazu-ctr-prediction](https://www.kaggle.com/c/avazu-ctr-prediction).\n",
    "\n",
    "It's expected to:\n",
    "- finish the test in 2-3 hours\n",
    "- return the results in 2 weeks but the sooner the better\n",
    "- build an end-to-end pipeline for the task\n",
    "- showcase my understanding of various aspects of ML: ETL, model building and selection, evaluation, etc.\n",
    "- develop in python (jupyter notebooks) with reasonable comments\n",
    "- use version control with appropriate commit messages"
   ]
  },
  {
   "cell_type": "code",
   "execution_count": 1,
   "metadata": {},
   "outputs": [],
   "source": [
    "import numpy as np\n",
    "import pandas as pd\n",
    "import xlearn as xl\n",
    "from sklearn.metrics import roc_curve, auc, roc_auc_score\n",
    "from scipy.special import logit, expit\n",
    "import matplotlib.pyplot as plt\n",
    "\n",
    "%matplotlib inline"
   ]
  },
  {
   "cell_type": "markdown",
   "metadata": {},
   "source": [
    "### Loading data"
   ]
  },
  {
   "cell_type": "code",
   "execution_count": 2,
   "metadata": {},
   "outputs": [],
   "source": [
    "# Use only 'train.gz' here as we need labeled data to evaluate our models.\n",
    "df = pd.read_csv('input/train.gz', # nrows=100000,\n",
    "                 compression='gzip', dtype={'id': str}, index_col='id')"
   ]
  },
  {
   "cell_type": "code",
   "execution_count": 3,
   "metadata": {},
   "outputs": [
    {
     "data": {
      "text/html": [
       "<div>\n",
       "<style scoped>\n",
       "    .dataframe tbody tr th:only-of-type {\n",
       "        vertical-align: middle;\n",
       "    }\n",
       "\n",
       "    .dataframe tbody tr th {\n",
       "        vertical-align: top;\n",
       "    }\n",
       "\n",
       "    .dataframe thead th {\n",
       "        text-align: right;\n",
       "    }\n",
       "</style>\n",
       "<table border=\"1\" class=\"dataframe\">\n",
       "  <thead>\n",
       "    <tr style=\"text-align: right;\">\n",
       "      <th></th>\n",
       "      <th>click</th>\n",
       "      <th>hour</th>\n",
       "      <th>C1</th>\n",
       "      <th>banner_pos</th>\n",
       "      <th>site_id</th>\n",
       "      <th>site_domain</th>\n",
       "      <th>site_category</th>\n",
       "      <th>app_id</th>\n",
       "      <th>app_domain</th>\n",
       "      <th>app_category</th>\n",
       "      <th>device_id</th>\n",
       "      <th>device_ip</th>\n",
       "      <th>device_model</th>\n",
       "      <th>device_type</th>\n",
       "      <th>device_conn_type</th>\n",
       "      <th>C14</th>\n",
       "      <th>C15</th>\n",
       "      <th>C16</th>\n",
       "      <th>C17</th>\n",
       "      <th>C18</th>\n",
       "      <th>C19</th>\n",
       "      <th>C20</th>\n",
       "      <th>C21</th>\n",
       "    </tr>\n",
       "    <tr>\n",
       "      <th>id</th>\n",
       "      <th></th>\n",
       "      <th></th>\n",
       "      <th></th>\n",
       "      <th></th>\n",
       "      <th></th>\n",
       "      <th></th>\n",
       "      <th></th>\n",
       "      <th></th>\n",
       "      <th></th>\n",
       "      <th></th>\n",
       "      <th></th>\n",
       "      <th></th>\n",
       "      <th></th>\n",
       "      <th></th>\n",
       "      <th></th>\n",
       "      <th></th>\n",
       "      <th></th>\n",
       "      <th></th>\n",
       "      <th></th>\n",
       "      <th></th>\n",
       "      <th></th>\n",
       "      <th></th>\n",
       "      <th></th>\n",
       "    </tr>\n",
       "  </thead>\n",
       "  <tbody>\n",
       "    <tr>\n",
       "      <th>1000009418151094273</th>\n",
       "      <td>0</td>\n",
       "      <td>14102100</td>\n",
       "      <td>1005</td>\n",
       "      <td>0</td>\n",
       "      <td>1fbe01fe</td>\n",
       "      <td>f3845767</td>\n",
       "      <td>28905ebd</td>\n",
       "      <td>ecad2386</td>\n",
       "      <td>7801e8d9</td>\n",
       "      <td>07d7df22</td>\n",
       "      <td>a99f214a</td>\n",
       "      <td>ddd2926e</td>\n",
       "      <td>44956a24</td>\n",
       "      <td>1</td>\n",
       "      <td>2</td>\n",
       "      <td>15706</td>\n",
       "      <td>320</td>\n",
       "      <td>50</td>\n",
       "      <td>1722</td>\n",
       "      <td>0</td>\n",
       "      <td>35</td>\n",
       "      <td>-1</td>\n",
       "      <td>79</td>\n",
       "    </tr>\n",
       "    <tr>\n",
       "      <th>10000169349117863715</th>\n",
       "      <td>0</td>\n",
       "      <td>14102100</td>\n",
       "      <td>1005</td>\n",
       "      <td>0</td>\n",
       "      <td>1fbe01fe</td>\n",
       "      <td>f3845767</td>\n",
       "      <td>28905ebd</td>\n",
       "      <td>ecad2386</td>\n",
       "      <td>7801e8d9</td>\n",
       "      <td>07d7df22</td>\n",
       "      <td>a99f214a</td>\n",
       "      <td>96809ac8</td>\n",
       "      <td>711ee120</td>\n",
       "      <td>1</td>\n",
       "      <td>0</td>\n",
       "      <td>15704</td>\n",
       "      <td>320</td>\n",
       "      <td>50</td>\n",
       "      <td>1722</td>\n",
       "      <td>0</td>\n",
       "      <td>35</td>\n",
       "      <td>100084</td>\n",
       "      <td>79</td>\n",
       "    </tr>\n",
       "    <tr>\n",
       "      <th>10000371904215119486</th>\n",
       "      <td>0</td>\n",
       "      <td>14102100</td>\n",
       "      <td>1005</td>\n",
       "      <td>0</td>\n",
       "      <td>1fbe01fe</td>\n",
       "      <td>f3845767</td>\n",
       "      <td>28905ebd</td>\n",
       "      <td>ecad2386</td>\n",
       "      <td>7801e8d9</td>\n",
       "      <td>07d7df22</td>\n",
       "      <td>a99f214a</td>\n",
       "      <td>b3cf8def</td>\n",
       "      <td>8a4875bd</td>\n",
       "      <td>1</td>\n",
       "      <td>0</td>\n",
       "      <td>15704</td>\n",
       "      <td>320</td>\n",
       "      <td>50</td>\n",
       "      <td>1722</td>\n",
       "      <td>0</td>\n",
       "      <td>35</td>\n",
       "      <td>100084</td>\n",
       "      <td>79</td>\n",
       "    </tr>\n",
       "    <tr>\n",
       "      <th>10000640724480838376</th>\n",
       "      <td>0</td>\n",
       "      <td>14102100</td>\n",
       "      <td>1005</td>\n",
       "      <td>0</td>\n",
       "      <td>1fbe01fe</td>\n",
       "      <td>f3845767</td>\n",
       "      <td>28905ebd</td>\n",
       "      <td>ecad2386</td>\n",
       "      <td>7801e8d9</td>\n",
       "      <td>07d7df22</td>\n",
       "      <td>a99f214a</td>\n",
       "      <td>e8275b8f</td>\n",
       "      <td>6332421a</td>\n",
       "      <td>1</td>\n",
       "      <td>0</td>\n",
       "      <td>15706</td>\n",
       "      <td>320</td>\n",
       "      <td>50</td>\n",
       "      <td>1722</td>\n",
       "      <td>0</td>\n",
       "      <td>35</td>\n",
       "      <td>100084</td>\n",
       "      <td>79</td>\n",
       "    </tr>\n",
       "    <tr>\n",
       "      <th>10000679056417042096</th>\n",
       "      <td>0</td>\n",
       "      <td>14102100</td>\n",
       "      <td>1005</td>\n",
       "      <td>1</td>\n",
       "      <td>fe8cc448</td>\n",
       "      <td>9166c161</td>\n",
       "      <td>0569f928</td>\n",
       "      <td>ecad2386</td>\n",
       "      <td>7801e8d9</td>\n",
       "      <td>07d7df22</td>\n",
       "      <td>a99f214a</td>\n",
       "      <td>9644d0bf</td>\n",
       "      <td>779d90c2</td>\n",
       "      <td>1</td>\n",
       "      <td>0</td>\n",
       "      <td>18993</td>\n",
       "      <td>320</td>\n",
       "      <td>50</td>\n",
       "      <td>2161</td>\n",
       "      <td>0</td>\n",
       "      <td>35</td>\n",
       "      <td>-1</td>\n",
       "      <td>157</td>\n",
       "    </tr>\n",
       "  </tbody>\n",
       "</table>\n",
       "</div>"
      ],
      "text/plain": [
       "                      click      hour    C1  banner_pos   site_id site_domain  \\\n",
       "id                                                                              \n",
       "1000009418151094273       0  14102100  1005           0  1fbe01fe    f3845767   \n",
       "10000169349117863715      0  14102100  1005           0  1fbe01fe    f3845767   \n",
       "10000371904215119486      0  14102100  1005           0  1fbe01fe    f3845767   \n",
       "10000640724480838376      0  14102100  1005           0  1fbe01fe    f3845767   \n",
       "10000679056417042096      0  14102100  1005           1  fe8cc448    9166c161   \n",
       "\n",
       "                     site_category    app_id app_domain app_category  \\\n",
       "id                                                                     \n",
       "1000009418151094273       28905ebd  ecad2386   7801e8d9     07d7df22   \n",
       "10000169349117863715      28905ebd  ecad2386   7801e8d9     07d7df22   \n",
       "10000371904215119486      28905ebd  ecad2386   7801e8d9     07d7df22   \n",
       "10000640724480838376      28905ebd  ecad2386   7801e8d9     07d7df22   \n",
       "10000679056417042096      0569f928  ecad2386   7801e8d9     07d7df22   \n",
       "\n",
       "                     device_id device_ip device_model  device_type  \\\n",
       "id                                                                   \n",
       "1000009418151094273   a99f214a  ddd2926e     44956a24            1   \n",
       "10000169349117863715  a99f214a  96809ac8     711ee120            1   \n",
       "10000371904215119486  a99f214a  b3cf8def     8a4875bd            1   \n",
       "10000640724480838376  a99f214a  e8275b8f     6332421a            1   \n",
       "10000679056417042096  a99f214a  9644d0bf     779d90c2            1   \n",
       "\n",
       "                      device_conn_type    C14  C15  C16   C17  C18  C19  \\\n",
       "id                                                                        \n",
       "1000009418151094273                  2  15706  320   50  1722    0   35   \n",
       "10000169349117863715                 0  15704  320   50  1722    0   35   \n",
       "10000371904215119486                 0  15704  320   50  1722    0   35   \n",
       "10000640724480838376                 0  15706  320   50  1722    0   35   \n",
       "10000679056417042096                 0  18993  320   50  2161    0   35   \n",
       "\n",
       "                         C20  C21  \n",
       "id                                 \n",
       "1000009418151094273       -1   79  \n",
       "10000169349117863715  100084   79  \n",
       "10000371904215119486  100084   79  \n",
       "10000640724480838376  100084   79  \n",
       "10000679056417042096      -1  157  "
      ]
     },
     "execution_count": 3,
     "metadata": {},
     "output_type": "execute_result"
    }
   ],
   "source": [
    "pd.set_option('display.max_columns', 100)\n",
    "df.head()"
   ]
  },
  {
   "cell_type": "code",
   "execution_count": 4,
   "metadata": {},
   "outputs": [
    {
     "name": "stdout",
     "output_type": "stream",
     "text": [
      "dataset shape: \t(40428967, 23)\n"
     ]
    }
   ],
   "source": [
    "print('dataset shape: \\t{}'.format(df.shape))"
   ]
  },
  {
   "cell_type": "markdown",
   "metadata": {},
   "source": [
    "### Feature engineering\n",
    "\n",
    "Check class balance, it seems the class imbalance is not so bad."
   ]
  },
  {
   "cell_type": "code",
   "execution_count": 5,
   "metadata": {},
   "outputs": [
    {
     "data": {
      "text/plain": [
       "0    33563901\n",
       "1     6865066\n",
       "Name: click, dtype: int64"
      ]
     },
     "execution_count": 5,
     "metadata": {},
     "output_type": "execute_result"
    }
   ],
   "source": [
    "df.click.value_counts()"
   ]
  },
  {
   "cell_type": "markdown",
   "metadata": {},
   "source": [
    "Show features and types"
   ]
  },
  {
   "cell_type": "code",
   "execution_count": 6,
   "metadata": {},
   "outputs": [
    {
     "data": {
      "text/plain": [
       "click                int64\n",
       "hour                 int64\n",
       "C1                   int64\n",
       "banner_pos           int64\n",
       "site_id             object\n",
       "site_domain         object\n",
       "site_category       object\n",
       "app_id              object\n",
       "app_domain          object\n",
       "app_category        object\n",
       "device_id           object\n",
       "device_ip           object\n",
       "device_model        object\n",
       "device_type          int64\n",
       "device_conn_type     int64\n",
       "C14                  int64\n",
       "C15                  int64\n",
       "C16                  int64\n",
       "C17                  int64\n",
       "C18                  int64\n",
       "C19                  int64\n",
       "C20                  int64\n",
       "C21                  int64\n",
       "dtype: object"
      ]
     },
     "execution_count": 6,
     "metadata": {},
     "output_type": "execute_result"
    }
   ],
   "source": [
    "pd.set_option('display.max_rows', 30)\n",
    "df.dtypes"
   ]
  },
  {
   "cell_type": "markdown",
   "metadata": {},
   "source": [
    "Check if there's any NaN values"
   ]
  },
  {
   "cell_type": "code",
   "execution_count": 7,
   "metadata": {},
   "outputs": [
    {
     "name": "stdout",
     "output_type": "stream",
     "text": [
      "click               : False\n",
      "hour                : False\n",
      "C1                  : False\n",
      "banner_pos          : False\n",
      "site_id             : False\n",
      "site_domain         : False\n",
      "site_category       : False\n",
      "app_id              : False\n",
      "app_domain          : False\n",
      "app_category        : False\n",
      "device_id           : False\n",
      "device_ip           : False\n",
      "device_model        : False\n",
      "device_type         : False\n",
      "device_conn_type    : False\n",
      "C14                 : False\n",
      "C15                 : False\n",
      "C16                 : False\n",
      "C17                 : False\n",
      "C18                 : False\n",
      "C19                 : False\n",
      "C20                 : False\n",
      "C21                 : False\n"
     ]
    }
   ],
   "source": [
    "for col in df.columns:\n",
    "    print('{:20}: {}'.format(col, df[col].hasnans))"
   ]
  },
  {
   "cell_type": "markdown",
   "metadata": {},
   "source": [
    "Plot the top value counts of the features"
   ]
  },
  {
   "cell_type": "code",
   "execution_count": 8,
   "metadata": {},
   "outputs": [
    {
     "data": {
      "image/png": "[encoded data removed]",
      "text/plain": [
       "<Figure size 648x360 with 1 Axes>"
      ]
     },
     "metadata": {},
     "output_type": "display_data"
    },
    {
     "data": {
      "image/png": "[encoded data removed]",
      "text/plain": [
       "<Figure size 648x360 with 1 Axes>"
      ]
     },
     "metadata": {},
     "output_type": "display_data"
    },
    {
     "data": {
      "image/png": "[encoded data removed]",
      "text/plain": [
       "<Figure size 648x360 with 1 Axes>"
      ]
     },
     "metadata": {},
     "output_type": "display_data"
    }
   ],
   "source": [
    "def plot_value_counts(series, title='', size=30):\n",
    "    cnts = series.values[:size]\n",
    "    x = range(len(cnts))\n",
    "    plt.plot(x, cnts, 'o')\n",
    "    plt.yscale('log')\n",
    "    plt.ylim(1e2)\n",
    "    plt.title(title)\n",
    "    plt.tight_layout()\n",
    "    plt.show()\n",
    "\n",
    "plt.rcParams['figure.figsize'] = (9.0, 5.0)\n",
    "for col in ['device_id', 'device_ip', 'device_model']:\n",
    "    plot_value_counts(df[col].value_counts(), title='{} top value counts'.format(col))"
   ]
  },
  {
   "cell_type": "markdown",
   "metadata": {},
   "source": [
    "For those device features having obvious difference in value count distribution, add a new feature showing if the value appeared frequently or not. They may be useful features."
   ]
  },
  {
   "cell_type": "code",
   "execution_count": 9,
   "metadata": {},
   "outputs": [],
   "source": [
    "counts_thresholds = {\n",
    "    'device_id': 1e7,\n",
    "    'device_ip': 1e5,\n",
    "    'device_model': 1e6\n",
    "}\n",
    "for col, threshold in counts_thresholds.items():\n",
    "    counts = df[col].value_counts().to_dict()\n",
    "    df[col + '_large'] = df[col].apply(lambda x: counts[x] >= threshold)"
   ]
  },
  {
   "cell_type": "code",
   "execution_count": 10,
   "metadata": {},
   "outputs": [],
   "source": [
    "fields = df.columns[1:]"
   ]
  },
  {
   "cell_type": "markdown",
   "metadata": {},
   "source": [
    "Print some more information about device."
   ]
  },
  {
   "cell_type": "code",
   "execution_count": 11,
   "metadata": {},
   "outputs": [
    {
     "name": "stdout",
     "output_type": "stream",
     "text": [
      "1    37304667\n",
      "0     2220812\n",
      "4      774272\n",
      "5      129185\n",
      "2          31\n",
      "Name: device_type, dtype: int64\n",
      "0    34886838\n",
      "2     3317443\n",
      "3     2181796\n",
      "5       42890\n",
      "Name: device_conn_type, dtype: int64\n"
     ]
    }
   ],
   "source": [
    "for col in ['device_type', 'device_conn_type']:\n",
    "    print(df[col].value_counts())"
   ]
  },
  {
   "cell_type": "markdown",
   "metadata": {},
   "source": [
    "It looks good, there aren't too many levels."
   ]
  },
  {
   "cell_type": "code",
   "execution_count": 12,
   "metadata": {},
   "outputs": [
    {
     "name": "stdout",
     "output_type": "stream",
     "text": [
      "85f751fd    14596137\n",
      "1fbe01fe     6486150\n",
      "e151e245     2637747\n",
      "d9750ee7      963745\n",
      "5b08c53b      913325\n",
      "5b4d2eda      771360\n",
      "856e6d3f      765891\n",
      "a7853007      461311\n",
      "b7e9786d      369099\n",
      "5ee41ff2      349008\n",
      "Name: site_id, dtype: int64\n",
      "c4e18dd6    15131739\n",
      "f3845767     6486150\n",
      "7e091613     3325008\n",
      "7687a86e     1290165\n",
      "98572c79      996816\n",
      "16a36ef3      855686\n",
      "58a89a43      765891\n",
      "9d54950b      375891\n",
      "b12b9f85      373925\n",
      "17d996e6      353600\n",
      "Name: site_domain, dtype: int64\n",
      "50e219e0    16537234\n",
      "f028772b    12657073\n",
      "28905ebd     7377208\n",
      "3e814130     3050306\n",
      "f66779e6      252451\n",
      "75fa27f6      160985\n",
      "335d28a8      136463\n",
      "76b2941d      104754\n",
      "c0dd3be3       42090\n",
      "72722551       28216\n",
      "Name: site_category, dtype: int64\n"
     ]
    }
   ],
   "source": [
    "pd.set_option('display.max_rows', 15)\n",
    "\n",
    "# Print value counts about site\n",
    "for col in ['site_id', 'site_domain', 'site_category']:\n",
    "    print(df[col].value_counts()[:10])"
   ]
  },
  {
   "cell_type": "code",
   "execution_count": 13,
   "metadata": {},
   "outputs": [
    {
     "name": "stdout",
     "output_type": "stream",
     "text": [
      "ecad2386    25832830\n",
      "92f5800b     1555283\n",
      "e2fcccd2     1129016\n",
      "febd1138      759098\n",
      "9c13b419      757812\n",
      "7358e05e      615635\n",
      "a5184c22      491457\n",
      "d36838b1      457572\n",
      "685d1c4c      408515\n",
      "54c5d545      397693\n",
      "Name: app_id, dtype: int64\n",
      "7801e8d9    27237087\n",
      "2347f47a     5240885\n",
      "ae637522     1881838\n",
      "5c5a694b     1129228\n",
      "82e27996      759125\n",
      "d9b5648e      713924\n",
      "0e8616ad      660510\n",
      "b9528b13      646193\n",
      "b8d325c3      534000\n",
      "aefc06bd      298769\n",
      "Name: app_domain, dtype: int64\n",
      "07d7df22    26165592\n",
      "0f2161f8     9561058\n",
      "cef3e649     1731545\n",
      "8ded1f7a     1467257\n",
      "f95efa07     1141673\n",
      "d1327cf5      123233\n",
      "09481d60       54886\n",
      "dc97ec06       54644\n",
      "75d80bbe       40108\n",
      "fc6fa53d       23663\n",
      "Name: app_category, dtype: int64\n"
     ]
    }
   ],
   "source": [
    "# Print value counts about app\n",
    "for col in ['app_id', 'app_domain', 'app_category']:\n",
    "    print(df[col].value_counts()[:10])"
   ]
  },
  {
   "cell_type": "markdown",
   "metadata": {},
   "source": [
    "There are many levels in site and app features. In order to reduce processing time and scale the model, I will train multiple models with subsets having same site_id or app_id."
   ]
  },
  {
   "cell_type": "markdown",
   "metadata": {},
   "source": [
    "### Train test split\n",
    "\n",
    "Test set is randomly selected. I use a dictionary to store sub training sets. To time reason, I only put 6 subsets, but we can add more subsets if needed."
   ]
  },
  {
   "cell_type": "code",
   "execution_count": 14,
   "metadata": {},
   "outputs": [],
   "source": [
    "test_size = 200000\n",
    "np.random.seed(42)\n",
    "test_ids = np.random.choice(df.index, test_size, replace=False)\n",
    "test_df = df.loc[test_ids]\n",
    "\n",
    "sub_dfs = {\n",
    "    'site_id': [\n",
    "        '85f751fd',\n",
    "        '1fbe01fe',\n",
    "        'e151e245'\n",
    "    ],\n",
    "    'app_id': [\n",
    "        'ecad2386',\n",
    "        '92f5800b',\n",
    "        'e2fcccd2'\n",
    "    ]\n",
    "}\n",
    "\n",
    "def data_slice(df):\n",
    "    dfs = {}\n",
    "    for field in sub_dfs:\n",
    "        for feature in sub_dfs[field]:\n",
    "            key = '{}:{}'.format(field, feature)\n",
    "            dfs[key] = df.loc[df[field] == feature].sample(frac=0.1, random_state=42)\n",
    "    return dfs\n",
    "\n",
    "train_dfs = data_slice(df.loc[~df.index.isin(test_ids)])\n",
    "\n",
    "del df"
   ]
  },
  {
   "cell_type": "markdown",
   "metadata": {},
   "source": [
    "### Data formatting\n",
    "\n",
    "As I'm going to use FFM models, this section converts datasets into suitable format."
   ]
  },
  {
   "cell_type": "code",
   "execution_count": 15,
   "metadata": {},
   "outputs": [],
   "source": [
    "# Define a class to structure field and feature mappings\n",
    "\n",
    "class FFMap(dict):\n",
    "    \"\"\"A fields and features map structured as:\n",
    "    {\n",
    "        'fields': {\n",
    "            field1: {\n",
    "                'idx': field1_idx,\n",
    "                'features': {\n",
    "                    feature1: feature1_idx,\n",
    "                    ...\n",
    "                }\n",
    "                'feature_cnt': 1\n",
    "            },\n",
    "            ...\n",
    "        },\n",
    "        'field_cnt': 0\n",
    "    }\n",
    "    \"\"\"\n",
    "    def __init__(self):\n",
    "        super(FFMap, self).__init__(\n",
    "            {'fields': {}, \n",
    "             'field_cnt': 0})\n",
    "    \n",
    "    def _has_field(self, field):\n",
    "        return field in self['fields']\n",
    "    \n",
    "    def _has_feature(self, field, feature):\n",
    "        return self._has_field and \\\n",
    "               feature in self['fields'][field]['features']\n",
    "    \n",
    "    def _add_feature(self, field, feature):\n",
    "        self['fields'][field]['feature_cnt'] += 1\n",
    "        self['fields'][field]['features'][feature] = \\\n",
    "            self['fields'][field]['feature_cnt']\n",
    "    \n",
    "    def _get_field_idx(self, field):\n",
    "        return self['fields'][field]['idx']\n",
    "    \n",
    "    def _get_feature_idx(self, field, feature):\n",
    "        return self['fields'][field]['features'][feature]\n",
    "    \n",
    "    def _get_value(self, field, feature):\n",
    "        return '{}:{}:1'.format(self._get_field_idx(field), \n",
    "                                self._get_feature_idx(field, feature))\n",
    "        \n",
    "    def update_field(self, field):\n",
    "        if self._has_field(field):\n",
    "            return\n",
    "\n",
    "        self['field_cnt'] += 1\n",
    "        self['fields'][field] = {\n",
    "            'idx': self['field_cnt'],\n",
    "            'features': {},\n",
    "            'feature_cnt': 0\n",
    "        }\n",
    "        \n",
    "    def convert_feature(self, field, feature):\n",
    "        if not self._has_feature(field, feature):\n",
    "            self._add_feature(field, feature)\n",
    "        return self._get_value(field, feature)"
   ]
  },
  {
   "cell_type": "code",
   "execution_count": 16,
   "metadata": {},
   "outputs": [],
   "source": [
    "def convert_feature(ffmap, field, feature):\n",
    "    return ffmap.convert_feature(field, feature)\n",
    "\n",
    "def df_to_ffm(df, ffmap, fields, name, label_col=None):\n",
    "    ffm = pd.DataFrame()\n",
    "    if label_col:\n",
    "        ffm[label_col] = df[label_col]\n",
    "    \n",
    "    for field in fields:\n",
    "        ffmap.update_field(field)\n",
    "        ffm[field] = df[field].apply(\n",
    "            lambda feature: convert_feature(ffmap, field, feature))\n",
    "    \n",
    "    ffm.to_csv('{}.ffm'.format(name), sep=' ', header=False, index=False)"
   ]
  },
  {
   "cell_type": "code",
   "execution_count": 17,
   "metadata": {},
   "outputs": [
    {
     "name": "stdout",
     "output_type": "stream",
     "text": [
      "CPU times: user 3min 45s, sys: 1.96 s, total: 3min 47s\n",
      "Wall time: 3min 47s\n"
     ]
    }
   ],
   "source": [
    "%%time\n",
    "\n",
    "# Create datasets\n",
    "ffmap = FFMap()\n",
    "df_to_ffm(test_df, ffmap, fields, name='test')\n",
    "\n",
    "for key, sub_df in train_dfs.items():\n",
    "    size = sub_df.shape[0]\n",
    "    train_size = int(size * 0.9)\n",
    "    df_to_ffm(sub_df[:train_size], ffmap, fields, 'train_' + key, label_col='click')\n",
    "    df_to_ffm(sub_df[train_size:], ffmap, fields, 'valid_' + key, label_col='click')"
   ]
  },
  {
   "cell_type": "markdown",
   "metadata": {},
   "source": [
    "### Building and training models\n",
    "\n",
    "For each subset, train an individual model and combine the prediction of all models at the end.\n",
    "\n",
    "Because all the features are categorical data, the entire dataset is very sparse. FFM performs better on sparse data and requires less space compare to linear models or tree based models."
   ]
  },
  {
   "cell_type": "code",
   "execution_count": 18,
   "metadata": {},
   "outputs": [
    {
     "name": "stdout",
     "output_type": "stream",
     "text": [
      "CPU times: user 5h 37min 13s, sys: 25.4 s, total: 5h 37min 39s\n",
      "Wall time: 31min 24s\n"
     ]
    }
   ],
   "source": [
    "%%time\n",
    "\n",
    "# Train & predict all sub datasets\n",
    "for key, sub_df in train_dfs.items():\n",
    "    ffm_model = xl.create_ffm()\n",
    "    ffm_model.setTrain('train_{}.ffm'.format(key))\n",
    "    ffm_model.setValidate('valid_{}.ffm'.format(key))\n",
    "#     ffm_model.disableLockFree()  # Attention: lock-free training is non-deterministic\n",
    "\n",
    "    params = {'task': 'binary', \n",
    "              'k': 8,\n",
    "              'lr': 0.1,\n",
    "              'lambda': 1e-3,\n",
    "              'metric': 'auc',\n",
    "              'epoch': 1000  # auto early stop\n",
    "             }\n",
    "\n",
    "    ffm_model.fit(params, 'model_{}.out'.format(key))\n",
    "    \n",
    "    ffm_model.setTest('test.ffm')\n",
    "    ffm_model.setSigmoid()\n",
    "    ffm_model.predict('model_{}.out'.format(key), 'output_{}.txt'.format(key))"
   ]
  },
  {
   "cell_type": "markdown",
   "metadata": {},
   "source": [
    "Combien results"
   ]
  },
  {
   "cell_type": "code",
   "execution_count": 19,
   "metadata": {},
   "outputs": [],
   "source": [
    "def combine(arr):\n",
    "    return expit(logit(arr).mean())\n",
    "\n",
    "pred_matrix = []\n",
    "for key in train_dfs:\n",
    "    with open('output_{}.txt'.format(key), 'r') as f:\n",
    "        pred = np.array([float(p) for p in f.readlines()])\n",
    "    pred_matrix.append(pred)\n",
    "\n",
    "pred_matrix = np.array(pred_matrix)\n",
    "\n",
    "y_pred = np.apply_along_axis(combine, 0, pred_matrix)"
   ]
  },
  {
   "cell_type": "markdown",
   "metadata": {},
   "source": [
    "### Evaluation\n",
    "\n",
    "I use AUC as evaluation metric. This metric evaluates the ranking ability of the CTR, which can reduce the impact of bias."
   ]
  },
  {
   "cell_type": "code",
   "execution_count": 20,
   "metadata": {},
   "outputs": [
    {
     "data": {
      "text/plain": [
       "0.669513950906369"
      ]
     },
     "execution_count": 20,
     "metadata": {},
     "output_type": "execute_result"
    }
   ],
   "source": [
    "y_true = test_df['click'].values\n",
    "\n",
    "fpr, tpr, _ = roc_curve(y_true, y_pred)\n",
    "roc_auc = auc(fpr, tpr)\n",
    "roc_auc"
   ]
  },
  {
   "cell_type": "code",
   "execution_count": 21,
   "metadata": {},
   "outputs": [
    {
     "data": {
      "image/png": "[encoded data removed]",
      "text/plain": [
       "<Figure size 648x360 with 1 Axes>"
      ]
     },
     "metadata": {},
     "output_type": "display_data"
    }
   ],
   "source": [
    "plt.figure()\n",
    "lw = 2\n",
    "plt.plot(fpr, tpr, color='darkorange',\n",
    "         lw=lw, label='ROC curve (area = %0.2f)' % roc_auc)\n",
    "plt.plot([0, 1], [0, 1], color='navy', lw=lw, linestyle='--')\n",
    "plt.xlim([0.0, 1.0])\n",
    "plt.ylim([0.0, 1.05])\n",
    "plt.xlabel('False Positive Rate')\n",
    "plt.ylabel('True Positive Rate')\n",
    "plt.title('ROC - Click Trough Rate')\n",
    "plt.legend(loc=\"lower right\")\n",
    "plt.show()"
   ]
  },
  {
   "cell_type": "markdown",
   "metadata": {},
   "source": [
    "As I only picked 6 subsets and 10% data of each set, the auc score is not very impressive. By increasing the training data size, it would have a better result."
   ]
  },
  {
   "cell_type": "code",
   "execution_count": null,
   "metadata": {},
   "outputs": [],
   "source": []
  }
 ],
 "metadata": {
  "kernelspec": {
   "display_name": "Python 3",
   "language": "python",
   "name": "python3"
  },
  "language_info": {
   "codemirror_mode": {
    "name": "ipython",
    "version": 3
   },
   "file_extension": ".py",
   "mimetype": "text/x-python",
   "name": "python",
   "nbconvert_exporter": "python",
   "pygments_lexer": "ipython3",
   "version": "3.6.5"
  }
 },
 "nbformat": 4,
 "nbformat_minor": 2
}
