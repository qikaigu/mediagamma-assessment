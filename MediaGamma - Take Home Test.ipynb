{
 "cells": [
  {
   "cell_type": "markdown",
   "metadata": {},
   "source": [
    "MediaGamma - Take Home Test\n",
    "======\n",
    "\n",
    "Qikai Gu\n",
    "\n",
    "July 17, 2018\n",
    "\n",
    "\n",
    "The test is about building a CTR prediction model with one of provided datasets. \n",
    "I picked [https://www.kaggle.com/c/avazu-ctr-prediction](https://www.kaggle.com/c/avazu-ctr-prediction).\n",
    "\n",
    "It's expected to:\n",
    "- finish the test in 2-3 hours\n",
    "- return the results in 2 weeks but the sooner the better\n",
    "- build an end-to-end pipeline for the task\n",
    "- showcase my understanding of various aspects of ML: ETL, model building and selection, evaluation, etc.\n",
    "- develop in python (jupyter notebooks) with reasonable comments\n",
    "- use version control with appropriate commit messages"
   ]
  },
  {
   "cell_type": "code",
   "execution_count": 1,
   "metadata": {},
   "outputs": [],
   "source": [
    "import numpy as np\n",
    "import pandas as pd\n",
    "import xlearn as xl\n",
    "from sklearn.metrics import roc_curve, auc, roc_auc_score\n",
    "import matplotlib.pyplot as plt\n",
    "\n",
    "%matplotlib inline"
   ]
  },
  {
   "cell_type": "code",
   "execution_count": 2,
   "metadata": {},
   "outputs": [],
   "source": [
    "# Use only 'train.gz' here as we need labeled data to evaluate our models.\n",
    "df = pd.read_csv('input/train.gz', # nrows=100000,\n",
    "                 compression='gzip', dtype={'id': str}, index_col='id')"
   ]
  },
  {
   "cell_type": "code",
   "execution_count": 3,
   "metadata": {},
   "outputs": [
    {
     "data": {
      "text/html": [
       "<div>\n",
       "<style scoped>\n",
       "    .dataframe tbody tr th:only-of-type {\n",
       "        vertical-align: middle;\n",
       "    }\n",
       "\n",
       "    .dataframe tbody tr th {\n",
       "        vertical-align: top;\n",
       "    }\n",
       "\n",
       "    .dataframe thead th {\n",
       "        text-align: right;\n",
       "    }\n",
       "</style>\n",
       "<table border=\"1\" class=\"dataframe\">\n",
       "  <thead>\n",
       "    <tr style=\"text-align: right;\">\n",
       "      <th></th>\n",
       "      <th>click</th>\n",
       "      <th>hour</th>\n",
       "      <th>C1</th>\n",
       "      <th>banner_pos</th>\n",
       "      <th>site_id</th>\n",
       "      <th>site_domain</th>\n",
       "      <th>site_category</th>\n",
       "      <th>app_id</th>\n",
       "      <th>app_domain</th>\n",
       "      <th>app_category</th>\n",
       "      <th>device_id</th>\n",
       "      <th>device_ip</th>\n",
       "      <th>device_model</th>\n",
       "      <th>device_type</th>\n",
       "      <th>device_conn_type</th>\n",
       "      <th>C14</th>\n",
       "      <th>C15</th>\n",
       "      <th>C16</th>\n",
       "      <th>C17</th>\n",
       "      <th>C18</th>\n",
       "      <th>C19</th>\n",
       "      <th>C20</th>\n",
       "      <th>C21</th>\n",
       "    </tr>\n",
       "    <tr>\n",
       "      <th>id</th>\n",
       "      <th></th>\n",
       "      <th></th>\n",
       "      <th></th>\n",
       "      <th></th>\n",
       "      <th></th>\n",
       "      <th></th>\n",
       "      <th></th>\n",
       "      <th></th>\n",
       "      <th></th>\n",
       "      <th></th>\n",
       "      <th></th>\n",
       "      <th></th>\n",
       "      <th></th>\n",
       "      <th></th>\n",
       "      <th></th>\n",
       "      <th></th>\n",
       "      <th></th>\n",
       "      <th></th>\n",
       "      <th></th>\n",
       "      <th></th>\n",
       "      <th></th>\n",
       "      <th></th>\n",
       "      <th></th>\n",
       "    </tr>\n",
       "  </thead>\n",
       "  <tbody>\n",
       "    <tr>\n",
       "      <th>1000009418151094273</th>\n",
       "      <td>0</td>\n",
       "      <td>14102100</td>\n",
       "      <td>1005</td>\n",
       "      <td>0</td>\n",
       "      <td>1fbe01fe</td>\n",
       "      <td>f3845767</td>\n",
       "      <td>28905ebd</td>\n",
       "      <td>ecad2386</td>\n",
       "      <td>7801e8d9</td>\n",
       "      <td>07d7df22</td>\n",
       "      <td>a99f214a</td>\n",
       "      <td>ddd2926e</td>\n",
       "      <td>44956a24</td>\n",
       "      <td>1</td>\n",
       "      <td>2</td>\n",
       "      <td>15706</td>\n",
       "      <td>320</td>\n",
       "      <td>50</td>\n",
       "      <td>1722</td>\n",
       "      <td>0</td>\n",
       "      <td>35</td>\n",
       "      <td>-1</td>\n",
       "      <td>79</td>\n",
       "    </tr>\n",
       "    <tr>\n",
       "      <th>10000169349117863715</th>\n",
       "      <td>0</td>\n",
       "      <td>14102100</td>\n",
       "      <td>1005</td>\n",
       "      <td>0</td>\n",
       "      <td>1fbe01fe</td>\n",
       "      <td>f3845767</td>\n",
       "      <td>28905ebd</td>\n",
       "      <td>ecad2386</td>\n",
       "      <td>7801e8d9</td>\n",
       "      <td>07d7df22</td>\n",
       "      <td>a99f214a</td>\n",
       "      <td>96809ac8</td>\n",
       "      <td>711ee120</td>\n",
       "      <td>1</td>\n",
       "      <td>0</td>\n",
       "      <td>15704</td>\n",
       "      <td>320</td>\n",
       "      <td>50</td>\n",
       "      <td>1722</td>\n",
       "      <td>0</td>\n",
       "      <td>35</td>\n",
       "      <td>100084</td>\n",
       "      <td>79</td>\n",
       "    </tr>\n",
       "    <tr>\n",
       "      <th>10000371904215119486</th>\n",
       "      <td>0</td>\n",
       "      <td>14102100</td>\n",
       "      <td>1005</td>\n",
       "      <td>0</td>\n",
       "      <td>1fbe01fe</td>\n",
       "      <td>f3845767</td>\n",
       "      <td>28905ebd</td>\n",
       "      <td>ecad2386</td>\n",
       "      <td>7801e8d9</td>\n",
       "      <td>07d7df22</td>\n",
       "      <td>a99f214a</td>\n",
       "      <td>b3cf8def</td>\n",
       "      <td>8a4875bd</td>\n",
       "      <td>1</td>\n",
       "      <td>0</td>\n",
       "      <td>15704</td>\n",
       "      <td>320</td>\n",
       "      <td>50</td>\n",
       "      <td>1722</td>\n",
       "      <td>0</td>\n",
       "      <td>35</td>\n",
       "      <td>100084</td>\n",
       "      <td>79</td>\n",
       "    </tr>\n",
       "    <tr>\n",
       "      <th>10000640724480838376</th>\n",
       "      <td>0</td>\n",
       "      <td>14102100</td>\n",
       "      <td>1005</td>\n",
       "      <td>0</td>\n",
       "      <td>1fbe01fe</td>\n",
       "      <td>f3845767</td>\n",
       "      <td>28905ebd</td>\n",
       "      <td>ecad2386</td>\n",
       "      <td>7801e8d9</td>\n",
       "      <td>07d7df22</td>\n",
       "      <td>a99f214a</td>\n",
       "      <td>e8275b8f</td>\n",
       "      <td>6332421a</td>\n",
       "      <td>1</td>\n",
       "      <td>0</td>\n",
       "      <td>15706</td>\n",
       "      <td>320</td>\n",
       "      <td>50</td>\n",
       "      <td>1722</td>\n",
       "      <td>0</td>\n",
       "      <td>35</td>\n",
       "      <td>100084</td>\n",
       "      <td>79</td>\n",
       "    </tr>\n",
       "    <tr>\n",
       "      <th>10000679056417042096</th>\n",
       "      <td>0</td>\n",
       "      <td>14102100</td>\n",
       "      <td>1005</td>\n",
       "      <td>1</td>\n",
       "      <td>fe8cc448</td>\n",
       "      <td>9166c161</td>\n",
       "      <td>0569f928</td>\n",
       "      <td>ecad2386</td>\n",
       "      <td>7801e8d9</td>\n",
       "      <td>07d7df22</td>\n",
       "      <td>a99f214a</td>\n",
       "      <td>9644d0bf</td>\n",
       "      <td>779d90c2</td>\n",
       "      <td>1</td>\n",
       "      <td>0</td>\n",
       "      <td>18993</td>\n",
       "      <td>320</td>\n",
       "      <td>50</td>\n",
       "      <td>2161</td>\n",
       "      <td>0</td>\n",
       "      <td>35</td>\n",
       "      <td>-1</td>\n",
       "      <td>157</td>\n",
       "    </tr>\n",
       "  </tbody>\n",
       "</table>\n",
       "</div>"
      ],
      "text/plain": [
       "                      click      hour    C1  banner_pos   site_id site_domain  \\\n",
       "id                                                                              \n",
       "1000009418151094273       0  14102100  1005           0  1fbe01fe    f3845767   \n",
       "10000169349117863715      0  14102100  1005           0  1fbe01fe    f3845767   \n",
       "10000371904215119486      0  14102100  1005           0  1fbe01fe    f3845767   \n",
       "10000640724480838376      0  14102100  1005           0  1fbe01fe    f3845767   \n",
       "10000679056417042096      0  14102100  1005           1  fe8cc448    9166c161   \n",
       "\n",
       "                     site_category    app_id app_domain app_category  \\\n",
       "id                                                                     \n",
       "1000009418151094273       28905ebd  ecad2386   7801e8d9     07d7df22   \n",
       "10000169349117863715      28905ebd  ecad2386   7801e8d9     07d7df22   \n",
       "10000371904215119486      28905ebd  ecad2386   7801e8d9     07d7df22   \n",
       "10000640724480838376      28905ebd  ecad2386   7801e8d9     07d7df22   \n",
       "10000679056417042096      0569f928  ecad2386   7801e8d9     07d7df22   \n",
       "\n",
       "                     device_id device_ip device_model  device_type  \\\n",
       "id                                                                   \n",
       "1000009418151094273   a99f214a  ddd2926e     44956a24            1   \n",
       "10000169349117863715  a99f214a  96809ac8     711ee120            1   \n",
       "10000371904215119486  a99f214a  b3cf8def     8a4875bd            1   \n",
       "10000640724480838376  a99f214a  e8275b8f     6332421a            1   \n",
       "10000679056417042096  a99f214a  9644d0bf     779d90c2            1   \n",
       "\n",
       "                      device_conn_type    C14  C15  C16   C17  C18  C19  \\\n",
       "id                                                                        \n",
       "1000009418151094273                  2  15706  320   50  1722    0   35   \n",
       "10000169349117863715                 0  15704  320   50  1722    0   35   \n",
       "10000371904215119486                 0  15704  320   50  1722    0   35   \n",
       "10000640724480838376                 0  15706  320   50  1722    0   35   \n",
       "10000679056417042096                 0  18993  320   50  2161    0   35   \n",
       "\n",
       "                         C20  C21  \n",
       "id                                 \n",
       "1000009418151094273       -1   79  \n",
       "10000169349117863715  100084   79  \n",
       "10000371904215119486  100084   79  \n",
       "10000640724480838376  100084   79  \n",
       "10000679056417042096      -1  157  "
      ]
     },
     "execution_count": 3,
     "metadata": {},
     "output_type": "execute_result"
    }
   ],
   "source": [
    "pd.set_option('display.max_columns', 100)\n",
    "df.head()"
   ]
  },
  {
   "cell_type": "code",
   "execution_count": 4,
   "metadata": {},
   "outputs": [
    {
     "name": "stdout",
     "output_type": "stream",
     "text": [
      "dataset shape: \t(40428967, 23)\n"
     ]
    }
   ],
   "source": [
    "print('dataset shape: \\t{}'.format(df.shape))"
   ]
  },
  {
   "cell_type": "code",
   "execution_count": null,
   "metadata": {},
   "outputs": [],
   "source": []
  },
  {
   "cell_type": "code",
   "execution_count": 5,
   "metadata": {},
   "outputs": [
    {
     "data": {
      "text/plain": [
       "0    33563901\n",
       "1     6865066\n",
       "Name: click, dtype: int64"
      ]
     },
     "execution_count": 5,
     "metadata": {},
     "output_type": "execute_result"
    }
   ],
   "source": [
    "# Check class balance\n",
    "df.click.value_counts()"
   ]
  },
  {
   "cell_type": "code",
   "execution_count": 6,
   "metadata": {},
   "outputs": [
    {
     "data": {
      "text/plain": [
       "click                int64\n",
       "hour                 int64\n",
       "C1                   int64\n",
       "banner_pos           int64\n",
       "site_id             object\n",
       "site_domain         object\n",
       "site_category       object\n",
       "app_id              object\n",
       "app_domain          object\n",
       "app_category        object\n",
       "device_id           object\n",
       "device_ip           object\n",
       "device_model        object\n",
       "device_type          int64\n",
       "device_conn_type     int64\n",
       "C14                  int64\n",
       "C15                  int64\n",
       "C16                  int64\n",
       "C17                  int64\n",
       "C18                  int64\n",
       "C19                  int64\n",
       "C20                  int64\n",
       "C21                  int64\n",
       "dtype: object"
      ]
     },
     "execution_count": 6,
     "metadata": {},
     "output_type": "execute_result"
    }
   ],
   "source": [
    "# Show features and types\n",
    "\n",
    "pd.set_option('display.max_rows', 30)\n",
    "df.dtypes"
   ]
  },
  {
   "cell_type": "code",
   "execution_count": 7,
   "metadata": {},
   "outputs": [
    {
     "name": "stdout",
     "output_type": "stream",
     "text": [
      "click               : False\n",
      "hour                : False\n",
      "C1                  : False\n",
      "banner_pos          : False\n",
      "site_id             : False\n",
      "site_domain         : False\n",
      "site_category       : False\n",
      "app_id              : False\n",
      "app_domain          : False\n",
      "app_category        : False\n",
      "device_id           : False\n",
      "device_ip           : False\n",
      "device_model        : False\n",
      "device_type         : False\n",
      "device_conn_type    : False\n",
      "C14                 : False\n",
      "C15                 : False\n",
      "C16                 : False\n",
      "C17                 : False\n",
      "C18                 : False\n",
      "C19                 : False\n",
      "C20                 : False\n",
      "C21                 : False\n"
     ]
    }
   ],
   "source": [
    "# Check if there's any NaN values\n",
    "for col in df.columns:\n",
    "    print('{:20}: {}'.format(col, df[col].hasnans))"
   ]
  },
  {
   "cell_type": "code",
   "execution_count": 8,
   "metadata": {},
   "outputs": [
    {
     "name": "stdout",
     "output_type": "stream",
     "text": [
      "85f751fd    14596137\n",
      "1fbe01fe     6486150\n",
      "e151e245     2637747\n",
      "d9750ee7      963745\n",
      "5b08c53b      913325\n",
      "5b4d2eda      771360\n",
      "856e6d3f      765891\n",
      "              ...   \n",
      "25147cbf           1\n",
      "7d220afa           1\n",
      "415259a0           1\n",
      "8bfe3df6           1\n",
      "0dc19f16           1\n",
      "0854eadf           1\n",
      "f793fd01           1\n",
      "Name: site_id, Length: 4737, dtype: int64\n",
      "c4e18dd6    15131739\n",
      "f3845767     6486150\n",
      "7e091613     3325008\n",
      "7687a86e     1290165\n",
      "98572c79      996816\n",
      "16a36ef3      855686\n",
      "58a89a43      765891\n",
      "              ...   \n",
      "b5bd3e30           1\n",
      "5816c7e5           1\n",
      "aba25695           1\n",
      "09e25a99           1\n",
      "e1540884           1\n",
      "34dca79e           1\n",
      "3123141a           1\n",
      "Name: site_domain, Length: 7745, dtype: int64\n",
      "50e219e0    16537234\n",
      "f028772b    12657073\n",
      "28905ebd     7377208\n",
      "3e814130     3050306\n",
      "f66779e6      252451\n",
      "75fa27f6      160985\n",
      "335d28a8      136463\n",
      "              ...   \n",
      "9ccfa2ea         318\n",
      "c706e647          28\n",
      "da34532e          23\n",
      "74073276          14\n",
      "110ab22d           6\n",
      "6432c423           2\n",
      "a72a0145           2\n",
      "Name: site_category, Length: 26, dtype: int64\n"
     ]
    }
   ],
   "source": [
    "pd.set_option('display.max_rows', 15)\n",
    "\n",
    "# Print value counts about site\n",
    "for col in ['site_id', 'site_domain', 'site_category']:\n",
    "    print(df[col].value_counts())"
   ]
  },
  {
   "cell_type": "code",
   "execution_count": 9,
   "metadata": {},
   "outputs": [
    {
     "name": "stdout",
     "output_type": "stream",
     "text": [
      "ecad2386    25832830\n",
      "92f5800b     1555283\n",
      "e2fcccd2     1129016\n",
      "febd1138      759098\n",
      "9c13b419      757812\n",
      "7358e05e      615635\n",
      "a5184c22      491457\n",
      "              ...   \n",
      "3b997c04           1\n",
      "79f28324           1\n",
      "41a5f5f4           1\n",
      "7656d44f           1\n",
      "8d6c6b56           1\n",
      "1be9fcc5           1\n",
      "2ae0203c           1\n",
      "Name: app_id, Length: 8552, dtype: int64\n",
      "7801e8d9    27237087\n",
      "2347f47a     5240885\n",
      "ae637522     1881838\n",
      "5c5a694b     1129228\n",
      "82e27996      759125\n",
      "d9b5648e      713924\n",
      "0e8616ad      660510\n",
      "              ...   \n",
      "cab5b73d           1\n",
      "e1f23257           1\n",
      "1dc4224a           1\n",
      "61b00f7b           1\n",
      "3d459804           1\n",
      "4e33d472           1\n",
      "aa396318           1\n",
      "Name: app_domain, Length: 559, dtype: int64\n",
      "07d7df22    26165592\n",
      "0f2161f8     9561058\n",
      "cef3e649     1731545\n",
      "8ded1f7a     1467257\n",
      "f95efa07     1141673\n",
      "d1327cf5      123233\n",
      "09481d60       54886\n",
      "              ...   \n",
      "71af18ce           5\n",
      "86c1a5a3           3\n",
      "6fea3693           2\n",
      "ef03ae90           2\n",
      "f395a87f           1\n",
      "cba0e20d           1\n",
      "52de74cf           1\n",
      "Name: app_category, Length: 36, dtype: int64\n"
     ]
    }
   ],
   "source": [
    "# Print value counts about app\n",
    "for col in ['app_id', 'app_domain', 'app_category']:\n",
    "    print(df[col].value_counts())"
   ]
  },
  {
   "cell_type": "code",
   "execution_count": 10,
   "metadata": {},
   "outputs": [
    {
     "name": "stdout",
     "output_type": "stream",
     "text": [
      "a99f214a    33358308\n",
      "0f7c61dc       21356\n",
      "c357dbff       19667\n",
      "936e92fb       13712\n",
      "afeffc18        9654\n",
      "987552d1        4187\n",
      "28dc8687        4101\n",
      "              ...   \n",
      "0bcc0190           1\n",
      "61424339           1\n",
      "47530fa4           1\n",
      "9a37d452           1\n",
      "e3cc30f1           1\n",
      "d3dfe1ca           1\n",
      "abbcf2c5           1\n",
      "Name: device_id, Length: 2686408, dtype: int64\n",
      "6b9769f2    208701\n",
      "431b3174    135322\n",
      "2f323f36     88499\n",
      "af9205f9     87844\n",
      "930ec31d     86996\n",
      "af62faf4     85802\n",
      "009a7861     85382\n",
      "             ...  \n",
      "7245676b         1\n",
      "f5aae2e7         1\n",
      "6d3607ad         1\n",
      "4bee6fde         1\n",
      "6fce7808         1\n",
      "c73be097         1\n",
      "36e62e5f         1\n",
      "Name: device_ip, Length: 6729486, dtype: int64\n",
      "8a4875bd    2455470\n",
      "1f0bc64f    1424546\n",
      "d787e91b    1405169\n",
      "76dc4769     767961\n",
      "be6db1d7     742913\n",
      "a0f5f879     652751\n",
      "4ea23a13     645153\n",
      "             ...   \n",
      "eb7d45a5          1\n",
      "799f9351          1\n",
      "9eee7d14          1\n",
      "e29c91f9          1\n",
      "a2a6267e          1\n",
      "d40d5789          1\n",
      "0da00937          1\n",
      "Name: device_model, Length: 8251, dtype: int64\n"
     ]
    }
   ],
   "source": [
    "# Print value counts about device\n",
    "for col in ['device_id', 'device_ip', 'device_model']:\n",
    "    print(df[col].value_counts())"
   ]
  },
  {
   "cell_type": "code",
   "execution_count": 11,
   "metadata": {},
   "outputs": [
    {
     "name": "stdout",
     "output_type": "stream",
     "text": [
      "1    37304667\n",
      "0     2220812\n",
      "4      774272\n",
      "5      129185\n",
      "2          31\n",
      "Name: device_type, dtype: int64\n",
      "0    34886838\n",
      "2     3317443\n",
      "3     2181796\n",
      "5       42890\n",
      "Name: device_conn_type, dtype: int64\n"
     ]
    }
   ],
   "source": [
    "# Print some more information about device\n",
    "for col in ['device_type', 'device_conn_type']:\n",
    "    print(df[col].value_counts())"
   ]
  },
  {
   "cell_type": "code",
   "execution_count": 28,
   "metadata": {},
   "outputs": [
    {
     "data": {
      "text/plain": [
       "6b9769f2    182360\n",
       "431b3174    117691\n",
       "2f323f36     88134\n",
       "af9205f9     87402\n",
       "930ec31d     86576\n",
       "af62faf4     85387\n",
       "009a7861     84986\n",
       "             ...  \n",
       "d752f769         1\n",
       "9da21250         1\n",
       "4d2c6413         1\n",
       "a2d1d2f6         1\n",
       "9ac946d3         1\n",
       "150844a8         1\n",
       "0586dfb4         1\n",
       "Name: device_ip, Length: 5389452, dtype: int64"
      ]
     },
     "execution_count": 28,
     "metadata": {},
     "output_type": "execute_result"
    }
   ],
   "source": [
    "# There are many rows having device_id = 'a99f214a', tricky\n",
    "# TODO\n",
    "df.loc[df.device_id == 'a99f214a'].device_ip.value_counts()"
   ]
  },
  {
   "cell_type": "code",
   "execution_count": 36,
   "metadata": {},
   "outputs": [
    {
     "data": {
      "text/plain": [
       "21356"
      ]
     },
     "execution_count": 36,
     "metadata": {},
     "output_type": "execute_result"
    }
   ],
   "source": [
    "vc = df.device_id.value_counts()\n",
    "vc['0f7c61dc']"
   ]
  },
  {
   "cell_type": "code",
   "execution_count": 26,
   "metadata": {},
   "outputs": [],
   "source": [
    "# df.loc[df.site_id == '85f751fd']"
   ]
  },
  {
   "cell_type": "code",
   "execution_count": 27,
   "metadata": {},
   "outputs": [],
   "source": [
    "# df.loc[df.app_id == 'ecad2386']"
   ]
  },
  {
   "cell_type": "code",
   "execution_count": null,
   "metadata": {},
   "outputs": [],
   "source": []
  },
  {
   "cell_type": "code",
   "execution_count": null,
   "metadata": {},
   "outputs": [],
   "source": []
  },
  {
   "cell_type": "code",
   "execution_count": null,
   "metadata": {},
   "outputs": [],
   "source": []
  },
  {
   "cell_type": "code",
   "execution_count": 17,
   "metadata": {},
   "outputs": [],
   "source": [
    "# Define a class to structure field and feature mappings\n",
    "\n",
    "class FFMap(dict):\n",
    "    \"\"\"A fields and features map structured as:\n",
    "    {\n",
    "        'fields': {\n",
    "            field1: {\n",
    "                'idx': field1_idx,\n",
    "                'features': {\n",
    "                    feature1: feature1_idx,\n",
    "                    ...\n",
    "                }\n",
    "                'feature_cnt': 1\n",
    "            },\n",
    "            ...\n",
    "        },\n",
    "        'field_cnt': 0\n",
    "    }\n",
    "    \"\"\"\n",
    "    def __init__(self):\n",
    "        super(FFMap, self).__init__(\n",
    "            {'fields': {}, \n",
    "             'field_cnt': 0})\n",
    "    \n",
    "    def _has_field(self, field):\n",
    "        return field in self['fields']\n",
    "    \n",
    "    def _has_feature(self, field, feature):\n",
    "        return self._has_field and \\\n",
    "               feature in self['fields'][field]['features']\n",
    "    \n",
    "    def _add_feature(self, field, feature):\n",
    "        self['fields'][field]['features'][feature] = \\\n",
    "            self['fields'][field]['feature_cnt']\n",
    "        self['fields'][field]['feature_cnt'] += 1\n",
    "    \n",
    "    def _get_field_idx(self, field):\n",
    "        return self['fields'][field]['idx']\n",
    "    \n",
    "    def _get_feature_idx(self, field, feature):\n",
    "        return self['fields'][field]['features'][feature]\n",
    "    \n",
    "    def _get_value(self, field, feature):\n",
    "        return '{}:{}:1'.format(self._get_field_idx(field), \n",
    "                                self._get_feature_idx(field, feature))\n",
    "        \n",
    "    def update_field(self, field):\n",
    "        if self._has_field(field):\n",
    "            return\n",
    "\n",
    "        self['fields'][field] = {\n",
    "            'idx': self['field_cnt'],\n",
    "            'features': {},\n",
    "            'feature_cnt': 0\n",
    "        }\n",
    "        self['field_cnt'] += 1\n",
    "        \n",
    "    def convert_feature(self, field, feature):\n",
    "        if not self._has_feature(field, feature):\n",
    "            self._add_feature(field, feature)\n",
    "        return self._get_value(field, feature)"
   ]
  },
  {
   "cell_type": "code",
   "execution_count": null,
   "metadata": {},
   "outputs": [],
   "source": []
  },
  {
   "cell_type": "code",
   "execution_count": null,
   "metadata": {},
   "outputs": [],
   "source": []
  },
  {
   "cell_type": "code",
   "execution_count": 18,
   "metadata": {},
   "outputs": [],
   "source": [
    "def convert_feature(ffmap, field, feature):\n",
    "    return ffmap.convert_feature(field, feature)\n",
    "\n",
    "def df_to_ffm(df, ffmap, fields, type_, label_col=None):\n",
    "    ffm = pd.DataFrame()\n",
    "    if label_col:\n",
    "        ffm[label_col] = df[label_col]\n",
    "    \n",
    "    for field in fields:\n",
    "        ffmap.update_field(field)\n",
    "        ffm[field] = df[field].apply(\n",
    "            lambda feature: convert_feature(ffmap, field, feature))\n",
    "    \n",
    "    ffm.to_csv('{}.ffm'.format(type_), sep=' ', header=False, index=False)"
   ]
  },
  {
   "cell_type": "code",
   "execution_count": 37,
   "metadata": {},
   "outputs": [],
   "source": [
    "!rm *.ffm\n",
    "!rm *.ffm.bin"
   ]
  },
  {
   "cell_type": "code",
   "execution_count": 20,
   "metadata": {},
   "outputs": [
    {
     "name": "stdout",
     "output_type": "stream",
     "text": [
      "CPU times: user 3.6 s, sys: 52 ms, total: 3.65 s\n",
      "Wall time: 3.65 s\n"
     ]
    }
   ],
   "source": [
    "%%time\n",
    "\n",
    "ffmap = FFMap()\n",
    "df_to_ffm(df[:60000], ffmap=ffmap, fields=df.columns[1:], type_='train', label_col='click')\n",
    "df_to_ffm(df[60000:80000], ffmap=ffmap, fields=df.columns[1:], type_='valid', label_col='click')\n",
    "df_to_ffm(df[80000:100000], ffmap=ffmap, fields=df.columns[1:], type_='test')"
   ]
  },
  {
   "cell_type": "code",
   "execution_count": 21,
   "metadata": {},
   "outputs": [
    {
     "name": "stdout",
     "output_type": "stream",
     "text": [
      "CPU times: user 32.2 s, sys: 64 ms, total: 32.2 s\n",
      "Wall time: 3.38 s\n"
     ]
    }
   ],
   "source": [
    "%%time\n",
    "\n",
    "ffm_model = xl.create_ffm()\n",
    "ffm_model.setTrain('train.ffm')\n",
    "ffm_model.setValidate('valid.ffm')\n",
    "\n",
    "params = {'task': 'binary', \n",
    "          'k': 2,\n",
    "          'lr': 0.03,\n",
    "          'lambda': 1e-3,\n",
    "          'metric': 'auc',\n",
    "          'epoch': 1000\n",
    "         }\n",
    "\n",
    "ffm_model.fit(params, 'model.out')"
   ]
  },
  {
   "cell_type": "code",
   "execution_count": 22,
   "metadata": {},
   "outputs": [],
   "source": [
    "ffm_model.setTest('test.ffm')\n",
    "ffm_model.setSigmoid()\n",
    "ffm_model.predict('model.out', 'output.txt')"
   ]
  },
  {
   "cell_type": "code",
   "execution_count": 23,
   "metadata": {},
   "outputs": [],
   "source": [
    "# Evaluation\n",
    "y_true = df[80000:100000]['click'].values\n",
    "with open('output.txt', 'r') as f:\n",
    "    y_pred = np.array([float(p) for p in f.readlines()])"
   ]
  },
  {
   "cell_type": "code",
   "execution_count": null,
   "metadata": {},
   "outputs": [],
   "source": [
    "fpr, tpr, _ = roc_curve(y_true, y_pred)\n",
    "roc_auc = auc(fpr, tpr)\n",
    "roc_auc"
   ]
  },
  {
   "cell_type": "code",
   "execution_count": null,
   "metadata": {},
   "outputs": [],
   "source": [
    "plt.figure()\n",
    "lw = 2\n",
    "plt.plot(fpr, tpr, color='darkorange',\n",
    "         lw=lw, label='ROC curve (area = %0.2f)' % roc_auc)\n",
    "plt.plot([0, 1], [0, 1], color='navy', lw=lw, linestyle='--')\n",
    "plt.xlim([0.0, 1.0])\n",
    "plt.ylim([0.0, 1.05])\n",
    "plt.xlabel('False Positive Rate')\n",
    "plt.ylabel('True Positive Rate')\n",
    "plt.title('ROC - Click Trough Rate')\n",
    "plt.legend(loc=\"lower right\")\n",
    "plt.show()"
   ]
  },
  {
   "cell_type": "code",
   "execution_count": null,
   "metadata": {},
   "outputs": [],
   "source": []
  }
 ],
 "metadata": {
  "kernelspec": {
   "display_name": "Python 3",
   "language": "python",
   "name": "python3"
  },
  "language_info": {
   "codemirror_mode": {
    "name": "ipython",
    "version": 3
   },
   "file_extension": ".py",
   "mimetype": "text/x-python",
   "name": "python",
   "nbconvert_exporter": "python",
   "pygments_lexer": "ipython3",
   "version": "3.6.5"
  }
 },
 "nbformat": 4,
 "nbformat_minor": 2
}
