{
 "cells": [
  {
   "cell_type": "markdown",
   "metadata": {},
   "source": [
    "MediaGamma - Take Home Test\n",
    "======\n",
    "\n",
    "Qikai Gu\n",
    "\n",
    "July 17, 2018\n",
    "\n",
    "\n",
    "The test is about building a CTR prediction model with one of provided datasets. \n",
    "I picked [https://www.kaggle.com/c/avazu-ctr-prediction](https://www.kaggle.com/c/avazu-ctr-prediction).\n",
    "\n",
    "It's expected to:\n",
    "- finish the test in 2-3 hours\n",
    "- return the results in 2 weeks but the sooner the better\n",
    "- build an end-to-end pipeline for the task\n",
    "- showcase my understanding of various aspects of ML: ETL, model building and selection, evaluation, etc.\n",
    "- develop in python (jupyter notebooks) with reasonable comments\n",
    "- use version control with appropriate commit messages\n",
    "\n",
    "Last updated: July 29, 2018"
   ]
  },
  {
   "cell_type": "code",
   "execution_count": 1,
   "metadata": {},
   "outputs": [],
   "source": [
    "import numpy as np\n",
    "import pandas as pd\n",
    "from pathlib import Path\n",
    "import xlearn as xl\n",
    "import xgboost as xgb\n",
    "from sklearn.preprocessing import LabelEncoder, OneHotEncoder\n",
    "from sklearn.feature_extraction.text import FeatureHasher, HashingVectorizer\n",
    "from sklearn.metrics import roc_curve, auc, roc_auc_score\n",
    "from sklearn.linear_model import LogisticRegression, SGDClassifier\n",
    "from sklearn.model_selection import PredefinedSplit, GridSearchCV\n",
    "import scipy\n",
    "from scipy.special import logit, expit\n",
    "import matplotlib.pyplot as plt\n",
    "import gc\n",
    "\n",
    "%matplotlib inline"
   ]
  },
  {
   "cell_type": "markdown",
   "metadata": {},
   "source": [
    "### Loading data"
   ]
  },
  {
   "cell_type": "code",
   "execution_count": 2,
   "metadata": {},
   "outputs": [],
   "source": [
    "# Use only 'train.gz' here as we need labeled data to evaluate our models.\n",
    "df = pd.read_csv('input/train.gz', # nrows=100000,\n",
    "                 compression='gzip', dtype={'id': str}, index_col='id')"
   ]
  },
  {
   "cell_type": "code",
   "execution_count": 3,
   "metadata": {},
   "outputs": [
    {
     "data": {
      "text/html": [
       "<div>\n",
       "<style scoped>\n",
       "    .dataframe tbody tr th:only-of-type {\n",
       "        vertical-align: middle;\n",
       "    }\n",
       "\n",
       "    .dataframe tbody tr th {\n",
       "        vertical-align: top;\n",
       "    }\n",
       "\n",
       "    .dataframe thead th {\n",
       "        text-align: right;\n",
       "    }\n",
       "</style>\n",
       "<table border=\"1\" class=\"dataframe\">\n",
       "  <thead>\n",
       "    <tr style=\"text-align: right;\">\n",
       "      <th></th>\n",
       "      <th>click</th>\n",
       "      <th>hour</th>\n",
       "      <th>C1</th>\n",
       "      <th>banner_pos</th>\n",
       "      <th>site_id</th>\n",
       "      <th>site_domain</th>\n",
       "      <th>site_category</th>\n",
       "      <th>app_id</th>\n",
       "      <th>app_domain</th>\n",
       "      <th>app_category</th>\n",
       "      <th>device_id</th>\n",
       "      <th>device_ip</th>\n",
       "      <th>device_model</th>\n",
       "      <th>device_type</th>\n",
       "      <th>device_conn_type</th>\n",
       "      <th>C14</th>\n",
       "      <th>C15</th>\n",
       "      <th>C16</th>\n",
       "      <th>C17</th>\n",
       "      <th>C18</th>\n",
       "      <th>C19</th>\n",
       "      <th>C20</th>\n",
       "      <th>C21</th>\n",
       "    </tr>\n",
       "    <tr>\n",
       "      <th>id</th>\n",
       "      <th></th>\n",
       "      <th></th>\n",
       "      <th></th>\n",
       "      <th></th>\n",
       "      <th></th>\n",
       "      <th></th>\n",
       "      <th></th>\n",
       "      <th></th>\n",
       "      <th></th>\n",
       "      <th></th>\n",
       "      <th></th>\n",
       "      <th></th>\n",
       "      <th></th>\n",
       "      <th></th>\n",
       "      <th></th>\n",
       "      <th></th>\n",
       "      <th></th>\n",
       "      <th></th>\n",
       "      <th></th>\n",
       "      <th></th>\n",
       "      <th></th>\n",
       "      <th></th>\n",
       "      <th></th>\n",
       "    </tr>\n",
       "  </thead>\n",
       "  <tbody>\n",
       "    <tr>\n",
       "      <th>1000009418151094273</th>\n",
       "      <td>0</td>\n",
       "      <td>14102100</td>\n",
       "      <td>1005</td>\n",
       "      <td>0</td>\n",
       "      <td>1fbe01fe</td>\n",
       "      <td>f3845767</td>\n",
       "      <td>28905ebd</td>\n",
       "      <td>ecad2386</td>\n",
       "      <td>7801e8d9</td>\n",
       "      <td>07d7df22</td>\n",
       "      <td>a99f214a</td>\n",
       "      <td>ddd2926e</td>\n",
       "      <td>44956a24</td>\n",
       "      <td>1</td>\n",
       "      <td>2</td>\n",
       "      <td>15706</td>\n",
       "      <td>320</td>\n",
       "      <td>50</td>\n",
       "      <td>1722</td>\n",
       "      <td>0</td>\n",
       "      <td>35</td>\n",
       "      <td>-1</td>\n",
       "      <td>79</td>\n",
       "    </tr>\n",
       "    <tr>\n",
       "      <th>10000169349117863715</th>\n",
       "      <td>0</td>\n",
       "      <td>14102100</td>\n",
       "      <td>1005</td>\n",
       "      <td>0</td>\n",
       "      <td>1fbe01fe</td>\n",
       "      <td>f3845767</td>\n",
       "      <td>28905ebd</td>\n",
       "      <td>ecad2386</td>\n",
       "      <td>7801e8d9</td>\n",
       "      <td>07d7df22</td>\n",
       "      <td>a99f214a</td>\n",
       "      <td>96809ac8</td>\n",
       "      <td>711ee120</td>\n",
       "      <td>1</td>\n",
       "      <td>0</td>\n",
       "      <td>15704</td>\n",
       "      <td>320</td>\n",
       "      <td>50</td>\n",
       "      <td>1722</td>\n",
       "      <td>0</td>\n",
       "      <td>35</td>\n",
       "      <td>100084</td>\n",
       "      <td>79</td>\n",
       "    </tr>\n",
       "    <tr>\n",
       "      <th>10000371904215119486</th>\n",
       "      <td>0</td>\n",
       "      <td>14102100</td>\n",
       "      <td>1005</td>\n",
       "      <td>0</td>\n",
       "      <td>1fbe01fe</td>\n",
       "      <td>f3845767</td>\n",
       "      <td>28905ebd</td>\n",
       "      <td>ecad2386</td>\n",
       "      <td>7801e8d9</td>\n",
       "      <td>07d7df22</td>\n",
       "      <td>a99f214a</td>\n",
       "      <td>b3cf8def</td>\n",
       "      <td>8a4875bd</td>\n",
       "      <td>1</td>\n",
       "      <td>0</td>\n",
       "      <td>15704</td>\n",
       "      <td>320</td>\n",
       "      <td>50</td>\n",
       "      <td>1722</td>\n",
       "      <td>0</td>\n",
       "      <td>35</td>\n",
       "      <td>100084</td>\n",
       "      <td>79</td>\n",
       "    </tr>\n",
       "    <tr>\n",
       "      <th>10000640724480838376</th>\n",
       "      <td>0</td>\n",
       "      <td>14102100</td>\n",
       "      <td>1005</td>\n",
       "      <td>0</td>\n",
       "      <td>1fbe01fe</td>\n",
       "      <td>f3845767</td>\n",
       "      <td>28905ebd</td>\n",
       "      <td>ecad2386</td>\n",
       "      <td>7801e8d9</td>\n",
       "      <td>07d7df22</td>\n",
       "      <td>a99f214a</td>\n",
       "      <td>e8275b8f</td>\n",
       "      <td>6332421a</td>\n",
       "      <td>1</td>\n",
       "      <td>0</td>\n",
       "      <td>15706</td>\n",
       "      <td>320</td>\n",
       "      <td>50</td>\n",
       "      <td>1722</td>\n",
       "      <td>0</td>\n",
       "      <td>35</td>\n",
       "      <td>100084</td>\n",
       "      <td>79</td>\n",
       "    </tr>\n",
       "    <tr>\n",
       "      <th>10000679056417042096</th>\n",
       "      <td>0</td>\n",
       "      <td>14102100</td>\n",
       "      <td>1005</td>\n",
       "      <td>1</td>\n",
       "      <td>fe8cc448</td>\n",
       "      <td>9166c161</td>\n",
       "      <td>0569f928</td>\n",
       "      <td>ecad2386</td>\n",
       "      <td>7801e8d9</td>\n",
       "      <td>07d7df22</td>\n",
       "      <td>a99f214a</td>\n",
       "      <td>9644d0bf</td>\n",
       "      <td>779d90c2</td>\n",
       "      <td>1</td>\n",
       "      <td>0</td>\n",
       "      <td>18993</td>\n",
       "      <td>320</td>\n",
       "      <td>50</td>\n",
       "      <td>2161</td>\n",
       "      <td>0</td>\n",
       "      <td>35</td>\n",
       "      <td>-1</td>\n",
       "      <td>157</td>\n",
       "    </tr>\n",
       "  </tbody>\n",
       "</table>\n",
       "</div>"
      ],
      "text/plain": [
       "                      click      hour    C1  banner_pos   site_id site_domain  \\\n",
       "id                                                                              \n",
       "1000009418151094273       0  14102100  1005           0  1fbe01fe    f3845767   \n",
       "10000169349117863715      0  14102100  1005           0  1fbe01fe    f3845767   \n",
       "10000371904215119486      0  14102100  1005           0  1fbe01fe    f3845767   \n",
       "10000640724480838376      0  14102100  1005           0  1fbe01fe    f3845767   \n",
       "10000679056417042096      0  14102100  1005           1  fe8cc448    9166c161   \n",
       "\n",
       "                     site_category    app_id app_domain app_category  \\\n",
       "id                                                                     \n",
       "1000009418151094273       28905ebd  ecad2386   7801e8d9     07d7df22   \n",
       "10000169349117863715      28905ebd  ecad2386   7801e8d9     07d7df22   \n",
       "10000371904215119486      28905ebd  ecad2386   7801e8d9     07d7df22   \n",
       "10000640724480838376      28905ebd  ecad2386   7801e8d9     07d7df22   \n",
       "10000679056417042096      0569f928  ecad2386   7801e8d9     07d7df22   \n",
       "\n",
       "                     device_id device_ip device_model  device_type  \\\n",
       "id                                                                   \n",
       "1000009418151094273   a99f214a  ddd2926e     44956a24            1   \n",
       "10000169349117863715  a99f214a  96809ac8     711ee120            1   \n",
       "10000371904215119486  a99f214a  b3cf8def     8a4875bd            1   \n",
       "10000640724480838376  a99f214a  e8275b8f     6332421a            1   \n",
       "10000679056417042096  a99f214a  9644d0bf     779d90c2            1   \n",
       "\n",
       "                      device_conn_type    C14  C15  C16   C17  C18  C19  \\\n",
       "id                                                                        \n",
       "1000009418151094273                  2  15706  320   50  1722    0   35   \n",
       "10000169349117863715                 0  15704  320   50  1722    0   35   \n",
       "10000371904215119486                 0  15704  320   50  1722    0   35   \n",
       "10000640724480838376                 0  15706  320   50  1722    0   35   \n",
       "10000679056417042096                 0  18993  320   50  2161    0   35   \n",
       "\n",
       "                         C20  C21  \n",
       "id                                 \n",
       "1000009418151094273       -1   79  \n",
       "10000169349117863715  100084   79  \n",
       "10000371904215119486  100084   79  \n",
       "10000640724480838376  100084   79  \n",
       "10000679056417042096      -1  157  "
      ]
     },
     "execution_count": 3,
     "metadata": {},
     "output_type": "execute_result"
    }
   ],
   "source": [
    "pd.set_option('display.max_columns', 100)\n",
    "df.head()"
   ]
  },
  {
   "cell_type": "code",
   "execution_count": 4,
   "metadata": {},
   "outputs": [
    {
     "name": "stdout",
     "output_type": "stream",
     "text": [
      "dataset shape: \t(40428967, 23)\n"
     ]
    }
   ],
   "source": [
    "print('dataset shape: \\t{}'.format(df.shape))"
   ]
  },
  {
   "cell_type": "markdown",
   "metadata": {},
   "source": [
    "### Preprocessing & Feature engineering\n",
    "\n",
    "Check class balance, it seems the class imbalance is not so bad."
   ]
  },
  {
   "cell_type": "code",
   "execution_count": 5,
   "metadata": {},
   "outputs": [
    {
     "data": {
      "text/plain": [
       "0    33563901\n",
       "1     6865066\n",
       "Name: click, dtype: int64"
      ]
     },
     "execution_count": 5,
     "metadata": {},
     "output_type": "execute_result"
    }
   ],
   "source": [
    "df.click.value_counts()"
   ]
  },
  {
   "cell_type": "code",
   "execution_count": 6,
   "metadata": {},
   "outputs": [],
   "source": [
    "m0, m1 = df.click.value_counts()"
   ]
  },
  {
   "cell_type": "markdown",
   "metadata": {},
   "source": [
    "Show features and types"
   ]
  },
  {
   "cell_type": "code",
   "execution_count": 7,
   "metadata": {},
   "outputs": [
    {
     "data": {
      "text/plain": [
       "click                int64\n",
       "hour                 int64\n",
       "C1                   int64\n",
       "banner_pos           int64\n",
       "site_id             object\n",
       "site_domain         object\n",
       "site_category       object\n",
       "app_id              object\n",
       "app_domain          object\n",
       "app_category        object\n",
       "device_id           object\n",
       "device_ip           object\n",
       "device_model        object\n",
       "device_type          int64\n",
       "device_conn_type     int64\n",
       "C14                  int64\n",
       "C15                  int64\n",
       "C16                  int64\n",
       "C17                  int64\n",
       "C18                  int64\n",
       "C19                  int64\n",
       "C20                  int64\n",
       "C21                  int64\n",
       "dtype: object"
      ]
     },
     "execution_count": 7,
     "metadata": {},
     "output_type": "execute_result"
    }
   ],
   "source": [
    "pd.set_option('display.max_rows', 30)\n",
    "df.dtypes"
   ]
  },
  {
   "cell_type": "markdown",
   "metadata": {},
   "source": [
    "Check if there's any NaN values"
   ]
  },
  {
   "cell_type": "code",
   "execution_count": 8,
   "metadata": {},
   "outputs": [
    {
     "name": "stdout",
     "output_type": "stream",
     "text": [
      "click               : False\n",
      "hour                : False\n",
      "C1                  : False\n",
      "banner_pos          : False\n",
      "site_id             : False\n",
      "site_domain         : False\n",
      "site_category       : False\n",
      "app_id              : False\n",
      "app_domain          : False\n",
      "app_category        : False\n",
      "device_id           : False\n",
      "device_ip           : False\n",
      "device_model        : False\n",
      "device_type         : False\n",
      "device_conn_type    : False\n",
      "C14                 : False\n",
      "C15                 : False\n",
      "C16                 : False\n",
      "C17                 : False\n",
      "C18                 : False\n",
      "C19                 : False\n",
      "C20                 : False\n",
      "C21                 : False\n"
     ]
    }
   ],
   "source": [
    "for col in df.columns:\n",
    "    print('{:20}: {}'.format(col, df[col].hasnans))"
   ]
  },
  {
   "cell_type": "markdown",
   "metadata": {},
   "source": [
    "Negative samples downsampling\n",
    "\n",
    "As the provided data is 10 days click-through data. I will use the first 8 days as traning set, 9th day as valid set and the last day as test set."
   ]
  },
  {
   "cell_type": "code",
   "execution_count": 9,
   "metadata": {},
   "outputs": [
    {
     "data": {
      "text/plain": [
       "array([14102100, 14102101, 14102102, 14102103, 14102104, 14102105,\n",
       "       14102106, 14102107, 14102108, 14102109, 14102110, 14102111,\n",
       "       14102112, 14102113, 14102114, 14102115, 14102116, 14102117,\n",
       "       14102118, 14102119, 14102120, 14102121, 14102122, 14102123,\n",
       "       14102200, 14102201, 14102202, 14102203, 14102204, 14102205,\n",
       "       14102206, 14102207, 14102208, 14102209, 14102210, 14102211,\n",
       "       14102212, 14102213, 14102214, 14102215, 14102216, 14102217,\n",
       "       14102218, 14102219, 14102220, 14102221, 14102222, 14102223,\n",
       "       14102300, 14102301, 14102302, 14102303, 14102304, 14102305,\n",
       "       14102306, 14102307, 14102308, 14102309, 14102310, 14102311,\n",
       "       14102312, 14102313, 14102314, 14102315, 14102316, 14102317,\n",
       "       14102318, 14102319, 14102320, 14102321, 14102322, 14102323,\n",
       "       14102400, 14102401, 14102402, 14102403, 14102404, 14102405,\n",
       "       14102406, 14102407, 14102408, 14102409, 14102410, 14102411,\n",
       "       14102412, 14102413, 14102414, 14102415, 14102416, 14102417,\n",
       "       14102418, 14102419, 14102420, 14102421, 14102422, 14102423,\n",
       "       14102500, 14102501, 14102502, 14102503, 14102504, 14102505,\n",
       "       14102506, 14102507, 14102508, 14102509, 14102510, 14102511,\n",
       "       14102512, 14102513, 14102514, 14102515, 14102516, 14102517,\n",
       "       14102518, 14102519, 14102520, 14102521, 14102522, 14102523,\n",
       "       14102600, 14102601, 14102602, 14102603, 14102604, 14102605,\n",
       "       14102606, 14102607, 14102608, 14102609, 14102610, 14102611,\n",
       "       14102612, 14102613, 14102614, 14102615, 14102616, 14102617,\n",
       "       14102618, 14102619, 14102620, 14102621, 14102622, 14102623,\n",
       "       14102700, 14102701, 14102702, 14102703, 14102704, 14102705,\n",
       "       14102706, 14102707, 14102708, 14102709, 14102710, 14102711,\n",
       "       14102712, 14102713, 14102714, 14102715, 14102716, 14102717,\n",
       "       14102718, 14102719, 14102720, 14102721, 14102722, 14102723,\n",
       "       14102800, 14102801, 14102802, 14102803, 14102804, 14102805,\n",
       "       14102806, 14102807, 14102808, 14102809, 14102810, 14102811,\n",
       "       14102812, 14102813, 14102814, 14102815, 14102816, 14102817,\n",
       "       14102818, 14102819, 14102820, 14102821, 14102822, 14102823,\n",
       "       14102900, 14102901, 14102902, 14102903, 14102904, 14102905,\n",
       "       14102906, 14102907, 14102908, 14102909, 14102910, 14102911,\n",
       "       14102912, 14102913, 14102914, 14102915, 14102916, 14102917,\n",
       "       14102918, 14102919, 14102920, 14102921, 14102922, 14102923,\n",
       "       14103000, 14103001, 14103002, 14103003, 14103004, 14103005,\n",
       "       14103006, 14103007, 14103008, 14103009, 14103010, 14103011,\n",
       "       14103012, 14103013, 14103014, 14103015, 14103016, 14103017,\n",
       "       14103018, 14103019, 14103020, 14103021, 14103022, 14103023])"
      ]
     },
     "execution_count": 9,
     "metadata": {},
     "output_type": "execute_result"
    }
   ],
   "source": [
    "df.hour.unique()"
   ]
  },
  {
   "cell_type": "code",
   "execution_count": 10,
   "metadata": {},
   "outputs": [],
   "source": [
    "neg_ids = df[df.click == 0].index\n",
    "np.random.seed(42)\n",
    "drop_indices = np.random.choice(neg_ids, m0 - m1, replace=False)\n",
    "df.drop(drop_indices, inplace=True)"
   ]
  },
  {
   "cell_type": "markdown",
   "metadata": {},
   "source": [
    "Define Train/Valid/Test indices"
   ]
  },
  {
   "cell_type": "code",
   "execution_count": 11,
   "metadata": {},
   "outputs": [],
   "source": [
    "train_ids = df[(df.hour >= 14102100) & (df.hour < 14102900)].index\n",
    "valid_ids = df[(df.hour >= 14102900) & (df.hour < 14103000)].index\n",
    "test_ids = df[df.hour >= 14103000].index\n",
    "\n",
    "train_indices = df.index.get_indexer(train_ids)\n",
    "valid_indices = df.index.get_indexer(valid_ids)\n",
    "test_indices = df.index.get_indexer(test_ids)\n",
    "\n",
    "# define combined train and val set for cross-validation\n",
    "train_val_ids = np.concatenate([train_ids, valid_ids])\n",
    "train_val_indices = np.concatenate([train_indices, valid_indices])"
   ]
  },
  {
   "cell_type": "markdown",
   "metadata": {},
   "source": [
    "Add hour as a new feature"
   ]
  },
  {
   "cell_type": "code",
   "execution_count": 12,
   "metadata": {},
   "outputs": [],
   "source": [
    "df['hour_h'] = df.hour.apply(lambda x: x % 100)"
   ]
  },
  {
   "cell_type": "code",
   "execution_count": 13,
   "metadata": {},
   "outputs": [],
   "source": [
    "label_path = 'label.csv'\n",
    "label_file = Path(label_path)\n",
    "if label_file.is_file():\n",
    "    label_df = pd.read_csv(label_path).set_index('id')\n",
    "else:\n",
    "    label_df = df[['click']]\n",
    "    label_df.to_csv(label_path)"
   ]
  },
  {
   "cell_type": "markdown",
   "metadata": {},
   "source": [
    "Plot the top value counts of the features"
   ]
  },
  {
   "cell_type": "code",
   "execution_count": 14,
   "metadata": {},
   "outputs": [
    {
     "data": {
      "image/png": "[encoded data removed]",
      "text/plain": [
       "<Figure size 648x360 with 1 Axes>"
      ]
     },
     "metadata": {},
     "output_type": "display_data"
    },
    {
     "data": {
      "image/png": "[encoded data removed]",
      "text/plain": [
       "<Figure size 648x360 with 1 Axes>"
      ]
     },
     "metadata": {},
     "output_type": "display_data"
    },
    {
     "data": {
      "image/png": "[encoded data removed]",
      "text/plain": [
       "<Figure size 648x360 with 1 Axes>"
      ]
     },
     "metadata": {},
     "output_type": "display_data"
    }
   ],
   "source": [
    "def plot_value_counts(series, title='', size=30):\n",
    "    cnts = series.values[:size]\n",
    "    x = range(len(cnts))\n",
    "    plt.plot(x, cnts, 'o')\n",
    "    plt.yscale('log')\n",
    "    plt.ylim(1e2)\n",
    "    plt.title(title)\n",
    "    plt.tight_layout()\n",
    "    plt.show()\n",
    "\n",
    "plt.rcParams['figure.figsize'] = (9.0, 5.0)\n",
    "for col in ['device_id', 'device_ip', 'device_model']:\n",
    "    plot_value_counts(df[col].value_counts(), title='{} top value counts'.format(col))"
   ]
  },
  {
   "cell_type": "code",
   "execution_count": 15,
   "metadata": {},
   "outputs": [],
   "source": [
    "fields = df.columns[1:]"
   ]
  },
  {
   "cell_type": "markdown",
   "metadata": {},
   "source": [
    "Print some more information about device."
   ]
  },
  {
   "cell_type": "code",
   "execution_count": 16,
   "metadata": {},
   "outputs": [
    {
     "name": "stdout",
     "output_type": "stream",
     "text": [
      "1    12651076\n",
      "0      825804\n",
      "4      217294\n",
      "5       35951\n",
      "2           7\n",
      "Name: device_type, dtype: int64\n",
      "0    12162191\n",
      "2     1035000\n",
      "3      523225\n",
      "5        9716\n",
      "Name: device_conn_type, dtype: int64\n"
     ]
    }
   ],
   "source": [
    "for col in ['device_type', 'device_conn_type']:\n",
    "    print(df[col].value_counts())"
   ]
  },
  {
   "cell_type": "markdown",
   "metadata": {},
   "source": [
    "It looks good, there aren't too many levels."
   ]
  },
  {
   "cell_type": "markdown",
   "metadata": {},
   "source": [
    "### Train test split\n",
    "\n",
    "Test set is randomly selected. I use a dictionary to store sub training sets. To time reason, I only put 6 subsets, but we can add more subsets if needed."
   ]
  },
  {
   "cell_type": "code",
   "execution_count": 17,
   "metadata": {},
   "outputs": [
    {
     "name": "stdout",
     "output_type": "stream",
     "text": [
      "CPU times: user 5.2 s, sys: 752 ms, total: 5.95 s\n",
      "Wall time: 5.97 s\n"
     ]
    }
   ],
   "source": [
    "%%time\n",
    "\n",
    "filepath = 'dataset.npz'\n",
    "dataset_file = Path(filepath)\n",
    "if dataset_file.is_file():\n",
    "    sparse_matrix = scipy.sparse.load_npz(filepath)\n",
    "else:\n",
    "    vectors = []\n",
    "    for c in fields:\n",
    "        n_features = min(1000, df[c].nunique())\n",
    "        h = HashingVectorizer(n_features=n_features, binary=True, norm=None, lowercase=False)\n",
    "        sparse_vector = h.transform(df[c].astype(str))\n",
    "        vectors.append(sparse_vector)\n",
    "    sparse_matrix = scipy.sparse.hstack(vectors).tocsr()\n",
    "    scipy.sparse.save_npz(filepath, sparse_matrix)"
   ]
  },
  {
   "cell_type": "code",
   "execution_count": null,
   "metadata": {},
   "outputs": [],
   "source": []
  },
  {
   "cell_type": "markdown",
   "metadata": {},
   "source": [
    "### Building and training models\n",
    "\n",
    "I will use train a Logistic Regression model and a XGBoost model and evaluate them with ROC AUC scores. For FFM model, I previously used the xLearn framework to build and train the model, but as it's not very stable and non-deterministic for multi-threading for the current version, I won't use it in this notebook."
   ]
  },
  {
   "cell_type": "markdown",
   "metadata": {},
   "source": [
    "Logistic Regression model"
   ]
  },
  {
   "cell_type": "code",
   "execution_count": 18,
   "metadata": {},
   "outputs": [
    {
     "name": "stdout",
     "output_type": "stream",
     "text": [
      "CPU times: user 9min 15s, sys: 3.92 s, total: 9min 19s\n",
      "Wall time: 9min 19s\n"
     ]
    }
   ],
   "source": [
    "%%time\n",
    "\n",
    "lr = LogisticRegression(solver='saga')\n",
    "lr.fit(sparse_matrix[train_indices, :], df.loc[train_ids].click)"
   ]
  },
  {
   "cell_type": "code",
   "execution_count": 19,
   "metadata": {},
   "outputs": [
    {
     "name": "stdout",
     "output_type": "stream",
     "text": [
      "Train auc:\n"
     ]
    },
    {
     "data": {
      "text/plain": [
       "0.7467497237177491"
      ]
     },
     "execution_count": 19,
     "metadata": {},
     "output_type": "execute_result"
    }
   ],
   "source": [
    "print('Train auc:')\n",
    "roc_auc_score(df.loc[train_ids].click, \n",
    "              lr.predict_proba(sparse_matrix[train_indices, :])[:, 1])"
   ]
  },
  {
   "cell_type": "code",
   "execution_count": 20,
   "metadata": {},
   "outputs": [
    {
     "name": "stdout",
     "output_type": "stream",
     "text": [
      "Valid auc\n"
     ]
    },
    {
     "data": {
      "text/plain": [
       "0.7182220623200812"
      ]
     },
     "execution_count": 20,
     "metadata": {},
     "output_type": "execute_result"
    }
   ],
   "source": [
    "print('Valid auc')\n",
    "roc_auc_score(df.loc[valid_ids].click, \n",
    "              lr.predict_proba(sparse_matrix[valid_indices, :])[:, 1])"
   ]
  },
  {
   "cell_type": "code",
   "execution_count": 21,
   "metadata": {},
   "outputs": [],
   "source": [
    "pred_lr = lr.predict_proba(sparse_matrix[test_indices, :])[:, 1]"
   ]
  },
  {
   "cell_type": "code",
   "execution_count": 22,
   "metadata": {},
   "outputs": [
    {
     "data": {
      "text/plain": [
       "0.7139361091527545"
      ]
     },
     "execution_count": 22,
     "metadata": {},
     "output_type": "execute_result"
    }
   ],
   "source": [
    "roc_auc_score(df.loc[test_ids].click, pred_lr)"
   ]
  },
  {
   "cell_type": "markdown",
   "metadata": {},
   "source": [
    "XGBoost model"
   ]
  },
  {
   "cell_type": "code",
   "execution_count": 23,
   "metadata": {},
   "outputs": [
    {
     "name": "stdout",
     "output_type": "stream",
     "text": [
      "Fitting 1 folds for each of 4 candidates, totalling 4 fits\n",
      "[CV] colsample_bytree=0.8, max_depth=7, subsample=0.8 ................\n",
      "[CV] . colsample_bytree=0.8, max_depth=7, subsample=0.8, total=44.2min\n",
      "[CV] colsample_bytree=0.8, max_depth=7, subsample=0.9 ................\n"
     ]
    },
    {
     "name": "stderr",
     "output_type": "stream",
     "text": [
      "[Parallel(n_jobs=1)]: Done   1 out of   1 | elapsed: 46.7min remaining:    0.0s\n"
     ]
    },
    {
     "name": "stdout",
     "output_type": "stream",
     "text": [
      "[CV] . colsample_bytree=0.8, max_depth=7, subsample=0.9, total=43.6min\n",
      "[CV] colsample_bytree=0.8, max_depth=9, subsample=0.8 ................\n",
      "[CV] . colsample_bytree=0.8, max_depth=9, subsample=0.8, total=57.1min\n",
      "[CV] colsample_bytree=0.8, max_depth=9, subsample=0.9 ................\n",
      "[CV] . colsample_bytree=0.8, max_depth=9, subsample=0.9, total=56.7min\n"
     ]
    },
    {
     "name": "stderr",
     "output_type": "stream",
     "text": [
      "[Parallel(n_jobs=1)]: Done   4 out of   4 | elapsed: 211.9min finished\n"
     ]
    },
    {
     "data": {
      "text/plain": [
       "GridSearchCV(cv=[(array([       0,        1, ..., 11038512, 11038513]), array([11038514, 11038515, ..., 12299305, 12299306]))],\n",
       "       error_score='raise',\n",
       "       estimator=XGBClassifier(base_score=0.5, booster='gbtree', colsample_bylevel=1,\n",
       "       colsample_bytree=1, early_stopping_rounds=10, gamma=0,\n",
       "       learning_rate=0.3, max_delta_step=0, max_depth=3,\n",
       "       min_child_weight=1, missing=None, n_estimators=1000, n_jobs=-1,\n",
       "       nthread=None, objective='binary:logistic', random_state=42,\n",
       "       reg_alpha=0, reg_lambda=1, scale_pos_weight=1, seed=None,\n",
       "       silent=True, subsample=1),\n",
       "       fit_params=None, iid=True, n_jobs=1,\n",
       "       param_grid={'max_depth': [7, 9], 'subsample': [0.8, 0.9], 'colsample_bytree': [0.8]},\n",
       "       pre_dispatch='2*n_jobs', refit=True, return_train_score='warn',\n",
       "       scoring='roc_auc', verbose=2)"
      ]
     },
     "execution_count": 23,
     "metadata": {},
     "output_type": "execute_result"
    }
   ],
   "source": [
    "xgb_model = xgb.XGBClassifier(n_estimators=1000, \n",
    "                              early_stopping_rounds=10,\n",
    "                              learning_rate=0.3, \n",
    "                              n_jobs=-1, \n",
    "                              random_state=42)\n",
    "\n",
    "parameters = {'max_depth': [7, 9],\n",
    "              'subsample': [0.8, 0.9],\n",
    "              'colsample_bytree': [0.8]}\n",
    "\n",
    "gs_xgb = GridSearchCV(xgb_model, parameters, cv=[(train_indices, valid_indices)], \n",
    "                      scoring='roc_auc', verbose=2)\n",
    "gs_xgb.fit(sparse_matrix[train_val_indices, :], label_df.loc[train_val_ids].click)"
   ]
  },
  {
   "cell_type": "code",
   "execution_count": 24,
   "metadata": {},
   "outputs": [
    {
     "data": {
      "text/plain": [
       "0.7495953565751019"
      ]
     },
     "execution_count": 24,
     "metadata": {},
     "output_type": "execute_result"
    }
   ],
   "source": [
    "gs_xgb.best_score_"
   ]
  },
  {
   "cell_type": "code",
   "execution_count": 25,
   "metadata": {},
   "outputs": [
    {
     "data": {
      "text/plain": [
       "XGBClassifier(base_score=0.5, booster='gbtree', colsample_bylevel=1,\n",
       "       colsample_bytree=0.8, early_stopping_rounds=10, gamma=0,\n",
       "       learning_rate=0.3, max_delta_step=0, max_depth=7,\n",
       "       min_child_weight=1, missing=None, n_estimators=1000, n_jobs=-1,\n",
       "       nthread=None, objective='binary:logistic', random_state=42,\n",
       "       reg_alpha=0, reg_lambda=1, scale_pos_weight=1, seed=None,\n",
       "       silent=True, subsample=0.8)"
      ]
     },
     "execution_count": 25,
     "metadata": {},
     "output_type": "execute_result"
    }
   ],
   "source": [
    "gs_xgb.best_estimator_"
   ]
  },
  {
   "cell_type": "code",
   "execution_count": 26,
   "metadata": {},
   "outputs": [],
   "source": [
    "pred_xgb = gs_xgb.predict_proba(sparse_matrix[test_indices, :])[:, 1]"
   ]
  },
  {
   "cell_type": "code",
   "execution_count": 27,
   "metadata": {},
   "outputs": [
    {
     "data": {
      "text/plain": [
       "0.741085047022664"
      ]
     },
     "execution_count": 27,
     "metadata": {},
     "output_type": "execute_result"
    }
   ],
   "source": [
    "roc_auc_score(label_df.loc[test_ids].click, pred_xgb)"
   ]
  },
  {
   "cell_type": "markdown",
   "metadata": {},
   "source": [
    "### Evaluation\n",
    "\n",
    "I use AUC as evaluation metric. This metric evaluates the ranking ability of the CTR, which can reduce the impact of bias."
   ]
  },
  {
   "cell_type": "code",
   "execution_count": 28,
   "metadata": {},
   "outputs": [],
   "source": [
    "y_true = label_df.loc[test_ids].click.values\n",
    "\n",
    "fpr_lr, tpr_lr, _ = roc_curve(y_true, pred_lr)\n",
    "roc_auc_lr = auc(fpr_lr, tpr_lr)\n",
    "\n",
    "fpr_xgb, tpr_xgb, _ = roc_curve(y_true, pred_xgb)\n",
    "roc_auc_xgb = auc(fpr_xgb, tpr_xgb)"
   ]
  },
  {
   "cell_type": "code",
   "execution_count": 29,
   "metadata": {},
   "outputs": [
    {
     "data": {
      "image/png": "[encoded data removed]",
      "text/plain": [
       "<Figure size 648x360 with 1 Axes>"
      ]
     },
     "metadata": {},
     "output_type": "display_data"
    }
   ],
   "source": [
    "plt.figure()\n",
    "lw = 2\n",
    "plt.plot(fpr_lr, tpr_lr, color='black',\n",
    "         lw=lw, label='LR (area = %0.2f)' % roc_auc_lr)\n",
    "plt.plot(fpr_xgb, tpr_xgb, color='darkorange',\n",
    "         lw=lw, label='XGB (area = %0.2f)' % roc_auc_xgb)\n",
    "plt.plot([0, 1], [0, 1], color='navy', lw=lw, linestyle='--')\n",
    "plt.xlim([0.0, 1.0])\n",
    "plt.ylim([0.0, 1.05])\n",
    "plt.xlabel('False Positive Rate')\n",
    "plt.ylabel('True Positive Rate')\n",
    "plt.title('ROC - Click Trough Rate')\n",
    "plt.legend(loc=\"lower right\")\n",
    "plt.show()"
   ]
  },
  {
   "cell_type": "markdown",
   "metadata": {},
   "source": [
    "Without compound features, XGBoost (0.74) performs slightly better than Logistic Regression (0.71)."
   ]
  },
  {
   "cell_type": "code",
   "execution_count": null,
   "metadata": {},
   "outputs": [],
   "source": []
  }
 ],
 "metadata": {
  "kernelspec": {
   "display_name": "Python 3",
   "language": "python",
   "name": "python3"
  },
  "language_info": {
   "codemirror_mode": {
    "name": "ipython",
    "version": 3
   },
   "file_extension": ".py",
   "mimetype": "text/x-python",
   "name": "python",
   "nbconvert_exporter": "python",
   "pygments_lexer": "ipython3",
   "version": "3.6.5"
  }
 },
 "nbformat": 4,
 "nbformat_minor": 2
}
